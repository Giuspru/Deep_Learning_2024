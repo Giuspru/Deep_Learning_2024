{
 "cells": [
  {
   "cell_type": "markdown",
   "metadata": {},
   "source": [
    "INTRODUZIONE AL FRAMEWORK PYTORCH:\n",
    "- UNA SORTA DI GEMELLO DI NUMPY, RIVISITA DELLE FUNZIONE DI NUMPY SUGLI ARRAY."
   ]
  },
  {
   "cell_type": "code",
   "execution_count": 15,
   "metadata": {},
   "outputs": [],
   "source": [
    "def spazio():\n",
    "    print(\"\\n##########################################\\n\")"
   ]
  },
  {
   "cell_type": "code",
   "execution_count": 16,
   "metadata": {},
   "outputs": [
    {
     "name": "stdout",
     "output_type": "stream",
     "text": [
      "[[1, 2], [3, 4], [5, 6]]\n",
      "<class 'list'>\n",
      "\n",
      "##########################################\n",
      "\n",
      "tensor([[1, 2],\n",
      "        [3, 4],\n",
      "        [5, 6]])\n",
      "<class 'torch.Tensor'>\n"
     ]
    }
   ],
   "source": [
    "import torch\n",
    "import numpy as np\n",
    "\n",
    "#Oggetto fondamentale in torch, è il tensore:\n",
    "#lo creiamo da una lista di liste\n",
    "data = [\n",
    "    [1,2],\n",
    "    [3,4],\n",
    "    [5,6]\n",
    "]\n",
    "\n",
    "print(data)\n",
    "print(type(data))\n",
    "\n",
    "spazio()\n",
    "\n",
    "#Questo è un tensore: di default noi utilizzeremo tendori di 4 dimensioni, ci sarà la batch dell'immagine\n",
    "x_data = torch.tensor(data = data)\n",
    "print(x_data)\n",
    "print(type(x_data))\n",
    "\n",
    "\n"
   ]
  },
  {
   "cell_type": "code",
   "execution_count": 17,
   "metadata": {},
   "outputs": [
    {
     "name": "stdout",
     "output_type": "stream",
     "text": [
      "[[1 2]\n",
      " [3 4]\n",
      " [5 6]]\n",
      "<class 'numpy.ndarray'>\n",
      "\n",
      "##########################################\n",
      "\n",
      "tensor([[1, 2],\n",
      "        [3, 4],\n",
      "        [5, 6]])\n",
      "<class 'torch.Tensor'>\n",
      "torch.Size([3, 2])\n"
     ]
    }
   ],
   "source": [
    "#Creazione tensori da numpy array:\n",
    "np_array = np.array(data)\n",
    "print(np_array)\n",
    "print(type(np_array))\n",
    "\n",
    "spazio()\n",
    "\n",
    "x_data = torch.tensor(np_array)\n",
    "print(x_data)\n",
    "print(type(x_data))\n",
    "print(x_data.shape)"
   ]
  },
  {
   "cell_type": "code",
   "execution_count": 18,
   "metadata": {},
   "outputs": [
    {
     "name": "stdout",
     "output_type": "stream",
     "text": [
      "tensor([[1, 2],\n",
      "        [3, 4],\n",
      "        [5, 6]])\n",
      "<class 'torch.Tensor'>\n",
      "torch.Size([3, 2])\n"
     ]
    }
   ],
   "source": [
    "#Creaziome tensore con la funzione torch.from_numpy\n",
    "x_tensor = torch.from_numpy(np_array)\n",
    "print(x_tensor)\n",
    "print(type(x_tensor))\n",
    "print(x_tensor.shape)"
   ]
  },
  {
   "cell_type": "code",
   "execution_count": 20,
   "metadata": {},
   "outputs": [
    {
     "name": "stdout",
     "output_type": "stream",
     "text": [
      "tensor([[1, 1, 1, 1],\n",
      "        [1, 1, 1, 1],\n",
      "        [1, 1, 1, 1],\n",
      "        [1, 1, 1, 1]], dtype=torch.int32)\n",
      "torch.int32\n",
      "torch.Size([4, 4])\n",
      "tensor([[[1, 1, 1],\n",
      "         [1, 1, 1],\n",
      "         [1, 1, 1]],\n",
      "\n",
      "        [[1, 1, 1],\n",
      "         [1, 1, 1],\n",
      "         [1, 1, 1]],\n",
      "\n",
      "        [[1, 1, 1],\n",
      "         [1, 1, 1],\n",
      "         [1, 1, 1]]], dtype=torch.int32)\n",
      "torch.int32\n",
      "torch.Size([3, 3, 3])\n"
     ]
    }
   ],
   "source": [
    "#Tensori di 1:\n",
    "x_ones = torch.ones(size=(4,4) , dtype=torch.int32)\n",
    "print(x_ones)\n",
    "print(x_ones.dtype)\n",
    "print(x_ones.shape)\n",
    "\n",
    "spazio\n",
    "\n",
    "x_ones2 = torch.ones(size=(3,3,3) , dtype=torch.int32)\n",
    "print(x_ones2)\n",
    "print(x_ones2.dtype)\n",
    "print(x_ones2.shape)"
   ]
  },
  {
   "cell_type": "code",
   "execution_count": 22,
   "metadata": {},
   "outputs": [
    {
     "name": "stdout",
     "output_type": "stream",
     "text": [
      "tensor([[ 1.6754, -0.6493,  1.0817, -1.4089],\n",
      "        [ 1.7760, -0.6747, -1.0216,  1.7727],\n",
      "        [ 1.5382,  0.0338, -0.7468, -1.9315],\n",
      "        [ 0.2760, -0.0499, -0.9218,  1.3848]])\n",
      "torch.float32\n",
      "torch.Size([4, 4])\n",
      "\n",
      "##########################################\n",
      "\n",
      "tensor([[0, 0, 0, 0],\n",
      "        [0, 0, 0, 0],\n",
      "        [0, 0, 0, 0],\n",
      "        [0, 0, 0, 0]], dtype=torch.int32)\n",
      "torch.int32\n",
      "torch.Size([4, 4])\n",
      "tensor([[[1., 1., 1.],\n",
      "         [1., 1., 1.],\n",
      "         [1., 1., 1.]],\n",
      "\n",
      "        [[1., 1., 1.],\n",
      "         [1., 1., 1.],\n",
      "         [1., 1., 1.]],\n",
      "\n",
      "        [[1., 1., 1.],\n",
      "         [1., 1., 1.],\n",
      "         [1., 1., 1.]]])\n",
      "torch.float32\n",
      "torch.Size([3, 3, 3])\n"
     ]
    }
   ],
   "source": [
    "#Tensori random: \n",
    "x_rand = torch.randn(size=(4,4) , dtype=torch.float32)\n",
    "print(x_rand)\n",
    "print(x_rand.dtype)\n",
    "print(x_rand.shape)\n",
    "\n",
    "spazio()\n",
    "\n",
    "#Tensori di zeri: \n",
    "zeros =  torch.zeros(size=(4,4), dtype=torch.int32)\n",
    "print(zeros)\n",
    "print(zeros.dtype)\n",
    "print(zeros.shape)\n",
    "\n",
    "#Oneslike:\n",
    "\n",
    "x_ones_like = torch.ones_like(input=x_ones2, dtype=torch.float32)\n",
    "print(x_ones_like)\n",
    "print(x_ones_like.dtype)\n",
    "print(x_ones_like.shape)"
   ]
  },
  {
   "cell_type": "code",
   "execution_count": 25,
   "metadata": {},
   "outputs": [
    {
     "name": "stdout",
     "output_type": "stream",
     "text": [
      "cpu\n",
      "cpu\n"
     ]
    }
   ],
   "source": [
    "if torch.cuda.is_available():\n",
    "    x_ones_like = x_ones_like.cuda()\n",
    "    print(x_ones_like.device)\n",
    "else :\n",
    "    print(x_ones_like.device)\n",
    "    x_ones_like = x_ones_like.cpu()\n",
    "    print(x_ones_like.device)"
   ]
  },
  {
   "cell_type": "code",
   "execution_count": 36,
   "metadata": {},
   "outputs": [
    {
     "name": "stdout",
     "output_type": "stream",
     "text": [
      "tensor([[[0.1745, 0.9321, 0.0233],\n",
      "         [0.6331, 0.1800, 0.7059],\n",
      "         [0.6943, 0.2384, 0.8077]],\n",
      "\n",
      "        [[0.9085, 0.2783, 0.0819],\n",
      "         [0.9024, 0.1028, 0.3394],\n",
      "         [0.5967, 0.0348, 0.1652]],\n",
      "\n",
      "        [[0.8164, 0.4484, 0.8003],\n",
      "         [0.1079, 0.9399, 0.2130],\n",
      "         [0.1792, 0.6149, 0.1587]]])\n",
      "\n",
      "##########################################\n",
      "\n",
      "tensor(0.1745)\n",
      "tensor(0.9085)\n",
      "\n",
      "##########################################\n",
      "\n",
      "tensor([[0.9321, 0.1800, 0.2384],\n",
      "        [0.2783, 0.1028, 0.0348],\n",
      "        [0.4484, 0.9399, 0.6149]])\n"
     ]
    }
   ],
   "source": [
    "#Indexind and slicing: \n",
    "x_rand = torch.rand_like(x_ones2, dtype=torch.float)\n",
    "print(x_rand)\n",
    "\n",
    "spazio()\n",
    "#Primo elemento della prima demensione:\n",
    "print(x_rand[0,0,0])\n",
    "#Primo elemento della seconda dimensione:\n",
    "print(x_rand[1,0,0])\n",
    "spazio()\n",
    "\n",
    "#Blocco la colonna n 2 e prendo tutte le dimensioni e tutte le righe:\n",
    "print(x_rand[:,:,1])\n"
   ]
  },
  {
   "cell_type": "code",
   "execution_count": 37,
   "metadata": {},
   "outputs": [
    {
     "name": "stdout",
     "output_type": "stream",
     "text": [
      "tensor([[[1.0000e+02, 9.3211e-01, 2.3270e-02],\n",
      "         [6.3310e-01, 1.7995e-01, 7.0588e-01],\n",
      "         [6.9427e-01, 2.3837e-01, 8.0768e-01]],\n",
      "\n",
      "        [[9.0850e-01, 2.7834e-01, 8.1863e-02],\n",
      "         [9.0237e-01, 1.0283e-01, 3.3936e-01],\n",
      "         [5.9666e-01, 3.4838e-02, 1.6518e-01]],\n",
      "\n",
      "        [[8.1639e-01, 4.4844e-01, 8.0028e-01],\n",
      "         [1.0786e-01, 9.3987e-01, 2.1299e-01],\n",
      "         [1.7920e-01, 6.1494e-01, 1.5866e-01]]])\n"
     ]
    }
   ],
   "source": [
    "#I tensori sono mutabili quoindi posso cambiare il valore di un elemento:\n",
    "x_rand[0,0,0] = 100\n",
    "print(x_rand)"
   ]
  },
  {
   "cell_type": "code",
   "execution_count": 44,
   "metadata": {},
   "outputs": [
    {
     "name": "stdout",
     "output_type": "stream",
     "text": [
      "tensor([[1., 1., 1.],\n",
      "        [1., 1., 1.],\n",
      "        [1., 1., 1.]])\n",
      "\n",
      "##########################################\n",
      "\n",
      "tensor([[1., 1., 1.],\n",
      "        [1., 1., 1.],\n",
      "        [1., 1., 1.],\n",
      "        [1., 1., 1.],\n",
      "        [1., 1., 1.],\n",
      "        [1., 1., 1.],\n",
      "        [1., 1., 1.],\n",
      "        [1., 1., 1.],\n",
      "        [1., 1., 1.]])\n",
      "\n",
      "##########################################\n",
      "\n",
      "tensor([[1., 1., 1., 1., 1., 1., 1., 1., 1.],\n",
      "        [1., 1., 1., 1., 1., 1., 1., 1., 1.],\n",
      "        [1., 1., 1., 1., 1., 1., 1., 1., 1.]])\n"
     ]
    }
   ],
   "source": [
    "#funzione cat: concatena i tensori.\n",
    "A = torch.ones(3, 3)\n",
    "print(A)\n",
    "t1 = torch.cat( [A,A,A] , dim=0)\n",
    "t2 = torch.cat( [A,A,A] , dim=1)\n",
    "spazio()\n",
    "print(t1)\n",
    "spazio()\n",
    "print(t2)"
   ]
  },
  {
   "cell_type": "code",
   "execution_count": 48,
   "metadata": {},
   "outputs": [
    {
     "name": "stdout",
     "output_type": "stream",
     "text": [
      "tensor([[ 2.2736,  0.9940, -0.7914],\n",
      "        [-1.0285, -1.7707,  0.5024],\n",
      "        [ 0.1906, -0.5817,  0.8688]])\n",
      "torch.Size([3, 3])\n",
      "\n",
      "##########################################\n",
      "\n",
      "tensor([[ 0.4506, -2.0344,  0.0886],\n",
      "        [ 1.1788,  1.1507, -0.3237],\n",
      "        [-0.2023, -0.4765, -1.8288]])\n",
      "\n",
      "##########################################\n",
      "\n",
      "tensor([[ 2.2736,  0.9940, -0.7914],\n",
      "        [-1.0285, -1.7707,  0.5024],\n",
      "        [ 0.1906, -0.5817,  0.8688],\n",
      "        [ 0.4506, -2.0344,  0.0886],\n",
      "        [ 1.1788,  1.1507, -0.3237],\n",
      "        [-0.2023, -0.4765, -1.8288]])\n",
      "torch.Size([6, 3])\n",
      "\n",
      "##########################################\n",
      "\n",
      "tensor([[ 2.2736,  0.9940, -0.7914,  0.4506, -2.0344,  0.0886],\n",
      "        [-1.0285, -1.7707,  0.5024,  1.1788,  1.1507, -0.3237],\n",
      "        [ 0.1906, -0.5817,  0.8688, -0.2023, -0.4765, -1.8288]])\n",
      "torch.Size([3, 6])\n"
     ]
    }
   ],
   "source": [
    "A = torch.randn(size=(3,3))\n",
    "B = torch.randn(size=(3,3))\n",
    "print(A)\n",
    "print(A.shape)\n",
    "spazio()\n",
    "print(B)\n",
    "spazio()\n",
    "\n",
    "t1 = torch.cat([A,B], dim=0)\n",
    "t2  = torch.cat([A,B], dim=1)\n",
    "print(t1)\n",
    "print(t1.shape)\n",
    "spazio()\n",
    "print(t2)\n",
    "print(t2.shape)"
   ]
  },
  {
   "cell_type": "code",
   "execution_count": 51,
   "metadata": {},
   "outputs": [
    {
     "name": "stdout",
     "output_type": "stream",
     "text": [
      "tensor([[[-1.5725,  1.3973,  0.5062],\n",
      "         [-0.8256, -1.2974,  0.4159],\n",
      "         [ 0.8145,  0.1356,  1.9208]],\n",
      "\n",
      "        [[-0.1193, -0.7181,  0.4872],\n",
      "         [ 0.1750,  0.0176,  0.5566],\n",
      "         [ 0.2682,  0.3185, -1.3726]],\n",
      "\n",
      "        [[ 0.0608,  1.3380, -0.4540],\n",
      "         [ 0.8952, -0.4804,  0.2630],\n",
      "         [ 1.2929,  1.0277,  0.2392]]])\n",
      "torch.Size([3, 3, 3])\n",
      "\n",
      "##########################################\n",
      "\n",
      "tensor([[[-1.2764, -0.3280, -0.3963],\n",
      "         [-1.0133,  0.9757,  0.7396],\n",
      "         [ 1.2744,  0.1244, -1.4560]],\n",
      "\n",
      "        [[ 0.6494,  0.4028, -0.1259],\n",
      "         [-2.1674,  1.7520,  0.3530],\n",
      "         [-1.1716, -0.8745,  0.8088]],\n",
      "\n",
      "        [[ 0.6587, -0.0279, -0.8335],\n",
      "         [-0.6393, -1.8341,  0.9919],\n",
      "         [-1.1604, -0.5687,  2.1948]]])\n",
      "\n",
      "##########################################\n",
      "\n",
      "tensor([[[-1.5725,  1.3973,  0.5062],\n",
      "         [-0.8256, -1.2974,  0.4159],\n",
      "         [ 0.8145,  0.1356,  1.9208]],\n",
      "\n",
      "        [[-0.1193, -0.7181,  0.4872],\n",
      "         [ 0.1750,  0.0176,  0.5566],\n",
      "         [ 0.2682,  0.3185, -1.3726]],\n",
      "\n",
      "        [[ 0.0608,  1.3380, -0.4540],\n",
      "         [ 0.8952, -0.4804,  0.2630],\n",
      "         [ 1.2929,  1.0277,  0.2392]],\n",
      "\n",
      "        [[-1.2764, -0.3280, -0.3963],\n",
      "         [-1.0133,  0.9757,  0.7396],\n",
      "         [ 1.2744,  0.1244, -1.4560]],\n",
      "\n",
      "        [[ 0.6494,  0.4028, -0.1259],\n",
      "         [-2.1674,  1.7520,  0.3530],\n",
      "         [-1.1716, -0.8745,  0.8088]],\n",
      "\n",
      "        [[ 0.6587, -0.0279, -0.8335],\n",
      "         [-0.6393, -1.8341,  0.9919],\n",
      "         [-1.1604, -0.5687,  2.1948]]])\n",
      "torch.Size([6, 3, 3])\n",
      "\n",
      "##########################################\n",
      "\n",
      "tensor([[[-1.5725,  1.3973,  0.5062],\n",
      "         [-0.8256, -1.2974,  0.4159],\n",
      "         [ 0.8145,  0.1356,  1.9208],\n",
      "         [-1.2764, -0.3280, -0.3963],\n",
      "         [-1.0133,  0.9757,  0.7396],\n",
      "         [ 1.2744,  0.1244, -1.4560]],\n",
      "\n",
      "        [[-0.1193, -0.7181,  0.4872],\n",
      "         [ 0.1750,  0.0176,  0.5566],\n",
      "         [ 0.2682,  0.3185, -1.3726],\n",
      "         [ 0.6494,  0.4028, -0.1259],\n",
      "         [-2.1674,  1.7520,  0.3530],\n",
      "         [-1.1716, -0.8745,  0.8088]],\n",
      "\n",
      "        [[ 0.0608,  1.3380, -0.4540],\n",
      "         [ 0.8952, -0.4804,  0.2630],\n",
      "         [ 1.2929,  1.0277,  0.2392],\n",
      "         [ 0.6587, -0.0279, -0.8335],\n",
      "         [-0.6393, -1.8341,  0.9919],\n",
      "         [-1.1604, -0.5687,  2.1948]]])\n",
      "torch.Size([3, 6, 3])\n",
      "\n",
      "##########################################\n",
      "\n",
      "tensor([[[-1.5725,  1.3973,  0.5062, -1.2764, -0.3280, -0.3963],\n",
      "         [-0.8256, -1.2974,  0.4159, -1.0133,  0.9757,  0.7396],\n",
      "         [ 0.8145,  0.1356,  1.9208,  1.2744,  0.1244, -1.4560]],\n",
      "\n",
      "        [[-0.1193, -0.7181,  0.4872,  0.6494,  0.4028, -0.1259],\n",
      "         [ 0.1750,  0.0176,  0.5566, -2.1674,  1.7520,  0.3530],\n",
      "         [ 0.2682,  0.3185, -1.3726, -1.1716, -0.8745,  0.8088]],\n",
      "\n",
      "        [[ 0.0608,  1.3380, -0.4540,  0.6587, -0.0279, -0.8335],\n",
      "         [ 0.8952, -0.4804,  0.2630, -0.6393, -1.8341,  0.9919],\n",
      "         [ 1.2929,  1.0277,  0.2392, -1.1604, -0.5687,  2.1948]]])\n",
      "torch.Size([3, 3, 6])\n"
     ]
    }
   ],
   "source": [
    "A = torch.randn(size=(3,3,3))\n",
    "B = torch.randn(size=(3,3,3))\n",
    "print(A)\n",
    "print(A.shape)\n",
    "spazio()\n",
    "print(B)\n",
    "spazio()\n",
    "\n",
    "t1 = torch.cat([A,B], dim=0)\n",
    "t2  = torch.cat([A,B], dim=1)\n",
    "t3 = torch.cat([A,B], dim=2)\n",
    "print(t1)\n",
    "print(t1.shape)\n",
    "spazio()\n",
    "print(t2)\n",
    "print(t2.shape)\n",
    "spazio()\n",
    "print(t3)\n",
    "print(t3.shape)"
   ]
  },
  {
   "cell_type": "code",
   "execution_count": 60,
   "metadata": {},
   "outputs": [
    {
     "name": "stdout",
     "output_type": "stream",
     "text": [
      "tensor([[1., 1.],\n",
      "        [1., 1.]])\n",
      "\n",
      "##########################################\n",
      "\n",
      "tensor([[2., 2.],\n",
      "        [2., 2.]])\n",
      "\n",
      "##########################################\n",
      "\n",
      "tensor([[2., 2.],\n",
      "        [2., 2.]])\n",
      "\n",
      "##########################################\n",
      "\n",
      "tensor([[2., 2.],\n",
      "        [2., 2.]])\n",
      "\n",
      "##########################################\n",
      "\n",
      "tensor([[1., 1.],\n",
      "        [1., 1.]])\n",
      "\n",
      "##########################################\n",
      "\n",
      "tensor([[1., 1.],\n",
      "        [1., 1.]])\n"
     ]
    }
   ],
   "source": [
    "#operazioni tensoriali:\n",
    "B_ones = torch.ones(2,2)\n",
    "print(B_ones)\n",
    "spazio()\n",
    "\n",
    "y1 = torch.matmul(B_ones, B_ones)\n",
    "print(y1)\n",
    "spazio()\n",
    "y1 = B_ones.matmul(B_ones)\n",
    "print(y1)\n",
    "spazio()\n",
    "y1 = B_ones @ B_ones\n",
    "print(y1)\n",
    "spazio()\n",
    "y1 = B_ones.mul(B_ones)\n",
    "print(y1)\n",
    "spazio()\n",
    "\n",
    "#ELEMENT-WISE OPERATIONS:\n",
    "y2 = B_ones*B_ones\n",
    "print(y2)"
   ]
  },
  {
   "cell_type": "code",
   "execution_count": null,
   "metadata": {},
   "outputs": [
    {
     "name": "stdout",
     "output_type": "stream",
     "text": [
      "tensor([[2., 2.],\n",
      "        [2., 2.],\n",
      "        [2., 2.]])\n",
      "tensor(12.)\n",
      "12.0\n"
     ]
    }
   ],
   "source": [
    "C_ones = torch.ones(2,3)\n",
    "'''k = C_ones.matmul(B_ones)''' #QUESTO DA ERRORE\n",
    "K = C_ones.T.matmul(B_ones) \n",
    "print(K)\n",
    "\n",
    "'''K = C_ones.T*B_ones'''\n",
    "\n",
    "\n",
    "#Facciamo due somme:\n",
    "K_sum  = K.sum()\n",
    "print(K_sum)\n",
    "print(K_sum.item()) #prende il valore numerico."
   ]
  },
  {
   "cell_type": "code",
   "execution_count": 77,
   "metadata": {},
   "outputs": [
    {
     "name": "stdout",
     "output_type": "stream",
     "text": [
      "tensor([[1., 1., 1.],\n",
      "        [1., 1., 1.],\n",
      "        [1., 1., 1.]])\n",
      "\n",
      "##########################################\n",
      "\n",
      "tensor([1., 1., 1., 1., 1.])\n",
      "\n",
      "##########################################\n",
      "\n",
      "tensor([[[1., 1., 1.],\n",
      "         [1., 1., 1.],\n",
      "         [1., 1., 1.]],\n",
      "\n",
      "        [[1., 1., 1.],\n",
      "         [1., 1., 1.],\n",
      "         [1., 1., 1.]],\n",
      "\n",
      "        [[1., 1., 1.],\n",
      "         [1., 1., 1.],\n",
      "         [1., 1., 1.]]])\n",
      "\n",
      "##########################################\n",
      "\n",
      "[[1. 1. 1.]\n",
      " [1. 1. 1.]\n",
      " [1. 1. 1.]]\n",
      "\n",
      "##########################################\n",
      "\n",
      "[1. 1. 1. 1. 1.]\n",
      "\n",
      "##########################################\n",
      "\n",
      "[[[1. 1. 1.]\n",
      "  [1. 1. 1.]\n",
      "  [1. 1. 1.]]\n",
      "\n",
      " [[1. 1. 1.]\n",
      "  [1. 1. 1.]\n",
      "  [1. 1. 1.]]\n",
      "\n",
      " [[1. 1. 1.]\n",
      "  [1. 1. 1.]\n",
      "  [1. 1. 1.]]]\n",
      "<class 'numpy.ndarray'>\n"
     ]
    }
   ],
   "source": [
    "#Tensor --> numpy:\n",
    "D = torch.ones(size = (3,3))\n",
    "E = torch.ones(size =(5,))\n",
    "F = torch.ones(size = (3,3,3))\n",
    "print(D)\n",
    "spazio()\n",
    "print(E)\n",
    "spazio()    \n",
    "print(F)\n",
    "spazio()\n",
    "\n",
    "n_D = D.numpy()\n",
    "n_E = E.numpy()\n",
    "n_F = F.numpy()\n",
    "\n",
    "print(n_D)\n",
    "spazio()\n",
    "print(n_E)\n",
    "spazio()\n",
    "print(n_F)\n",
    "print(type(n_F))\n",
    "\n",
    "\n"
   ]
  }
 ],
 "metadata": {
  "kernelspec": {
   "display_name": "base",
   "language": "python",
   "name": "python3"
  },
  "language_info": {
   "codemirror_mode": {
    "name": "ipython",
    "version": 3
   },
   "file_extension": ".py",
   "mimetype": "text/x-python",
   "name": "python",
   "nbconvert_exporter": "python",
   "pygments_lexer": "ipython3",
   "version": "3.9.13"
  }
 },
 "nbformat": 4,
 "nbformat_minor": 2
}
