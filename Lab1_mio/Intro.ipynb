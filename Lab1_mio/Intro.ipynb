{
 "cells": [
  {
   "cell_type": "markdown",
   "metadata": {},
   "source": [
    "Let's begin with an introduction to pytorch."
   ]
  },
  {
   "cell_type": "code",
   "execution_count": 1,
   "metadata": {},
   "outputs": [],
   "source": [
    "import numpy as np \n",
    "import torch\n"
   ]
  },
  {
   "cell_type": "markdown",
   "metadata": {},
   "source": [
    "The principal element in pytorch is the tensor."
   ]
  },
  {
   "cell_type": "code",
   "execution_count": 2,
   "metadata": {},
   "outputs": [
    {
     "name": "stdout",
     "output_type": "stream",
     "text": [
      "[[1, 2], [3, 4], [5, 6]]\n",
      "<class 'list'>\n",
      "tensor([[1, 2],\n",
      "        [3, 4],\n",
      "        [5, 6]])\n",
      "<class 'torch.Tensor'>\n",
      "torch.Size([3, 2])\n"
     ]
    }
   ],
   "source": [
    "#that is a list.\n",
    "data = [\n",
    "    [1, 2],\n",
    "    [3, 4],\n",
    "    [5, 6]\n",
    "]\n",
    "print(data)\n",
    "print(type(data))\n",
    "\n",
    "#that is a tensor. quando lavoreremo con le immagini lavoreremo con tensori a 4 dimensioni\n",
    "#Questo perchè l'immagine sarà formata da 3 dimensioni: altezza, larghezza e canali (RGB) più una batch dimensione. lo vedremo in seguito...\n",
    "x_data = torch.tensor(data) \n",
    "print(x_data)\n",
    "print(type(x_data))\n",
    "print(x_data.shape)\n",
    "\n"
   ]
  },
  {
   "cell_type": "code",
   "execution_count": 3,
   "metadata": {},
   "outputs": [
    {
     "name": "stdout",
     "output_type": "stream",
     "text": [
      "[[1 2]\n",
      " [3 4]\n",
      " [5 6]]\n",
      "<class 'numpy.ndarray'>\n",
      "tensor([[1, 2],\n",
      "        [3, 4],\n",
      "        [5, 6]])\n",
      "<class 'torch.Tensor'>\n"
     ]
    }
   ],
   "source": [
    "#Posso creare un tensore partendo da un array numpy.\n",
    "import numpy as np\n",
    "np_array = np.array(data)\n",
    "print(np_array)\n",
    "print(type(np_array))\n",
    "\n",
    "#and then\n",
    "#prende in oggetto un numpy array e lo trasforma in un tensore torch.\n",
    "x_tensor = torch.from_numpy(np_array)\n",
    "print(x_tensor)\n",
    "print(type(x_tensor))"
   ]
  },
  {
   "cell_type": "code",
   "execution_count": 4,
   "metadata": {},
   "outputs": [
    {
     "name": "stdout",
     "output_type": "stream",
     "text": [
      "tensor([[[1, 1, 1],\n",
      "         [1, 1, 1],\n",
      "         [1, 1, 1],\n",
      "         [1, 1, 1]],\n",
      "\n",
      "        [[1, 1, 1],\n",
      "         [1, 1, 1],\n",
      "         [1, 1, 1],\n",
      "         [1, 1, 1]],\n",
      "\n",
      "        [[1, 1, 1],\n",
      "         [1, 1, 1],\n",
      "         [1, 1, 1],\n",
      "         [1, 1, 1]],\n",
      "\n",
      "        [[1, 1, 1],\n",
      "         [1, 1, 1],\n",
      "         [1, 1, 1],\n",
      "         [1, 1, 1]]], dtype=torch.int32)\n",
      "torch.Size([4, 4, 3])\n",
      "torch.int32\n"
     ]
    }
   ],
   "source": [
    "#alcune funzioni:\n",
    "x_ones = torch.ones(size=(4,4,3) , dtype=torch.int32) #this is a 4x4 x3 tensor. \n",
    "print(x_ones)\n",
    "print(x_ones.shape)\n",
    "print(x_ones.dtype)\n"
   ]
  },
  {
   "cell_type": "code",
   "execution_count": 5,
   "metadata": {},
   "outputs": [
    {
     "name": "stdout",
     "output_type": "stream",
     "text": [
      "tensor([[[0., 0., 0.],\n",
      "         [0., 0., 0.],\n",
      "         [0., 0., 0.],\n",
      "         [0., 0., 0.]],\n",
      "\n",
      "        [[0., 0., 0.],\n",
      "         [0., 0., 0.],\n",
      "         [0., 0., 0.],\n",
      "         [0., 0., 0.]],\n",
      "\n",
      "        [[0., 0., 0.],\n",
      "         [0., 0., 0.],\n",
      "         [0., 0., 0.],\n",
      "         [0., 0., 0.]],\n",
      "\n",
      "        [[0., 0., 0.],\n",
      "         [0., 0., 0.],\n",
      "         [0., 0., 0.],\n",
      "         [0., 0., 0.]]])\n",
      "torch.Size([4, 4, 3])\n",
      "torch.float32\n"
     ]
    }
   ],
   "source": [
    "x_zero = torch.zeros(4, 4, 3)\n",
    "print(x_zero)\n",
    "print(x_zero.shape)\n",
    "print(x_zero.dtype)"
   ]
  },
  {
   "cell_type": "code",
   "execution_count": 6,
   "metadata": {},
   "outputs": [
    {
     "name": "stdout",
     "output_type": "stream",
     "text": [
      "tensor([[[ 0.1492, -1.3415,  0.5077],\n",
      "         [-1.8951, -0.0939, -0.3029],\n",
      "         [ 1.0419, -1.4849,  0.6962],\n",
      "         [ 0.2672, -0.1070,  0.2849]],\n",
      "\n",
      "        [[-0.5135, -1.4079, -2.1044],\n",
      "         [-0.8236, -1.0141,  1.9276],\n",
      "         [ 0.9004, -0.2232, -2.7778],\n",
      "         [-0.7605, -0.6471,  1.9310]],\n",
      "\n",
      "        [[-0.4180,  0.6019,  0.0217],\n",
      "         [-0.1317,  0.6425,  0.6710],\n",
      "         [-0.2670,  0.3205,  0.4351],\n",
      "         [-1.9265,  0.4264,  0.2141]],\n",
      "\n",
      "        [[-0.6952,  1.0195,  0.6728],\n",
      "         [-0.7538, -0.5950,  1.1757],\n",
      "         [ 1.2886, -1.2791, -1.7174],\n",
      "         [-0.9619,  0.1945,  0.9006]]])\n",
      "torch.float32\n",
      "torch.Size([4, 4, 3])\n"
     ]
    }
   ],
   "source": [
    "x_rand = torch.randn(size=(4,4,3) , dtype=torch.float32) #questa la posso proprio immaginare come un'immagine.\n",
    "print(x_rand)   \n",
    "print(x_rand.dtype)\n",
    "print(x_rand.shape)"
   ]
  },
  {
   "cell_type": "code",
   "execution_count": 7,
   "metadata": {},
   "outputs": [
    {
     "name": "stdout",
     "output_type": "stream",
     "text": [
      "tensor([[1, 1],\n",
      "        [1, 1],\n",
      "        [1, 1]])\n",
      "torch.Size([3, 2])\n",
      "torch.int64\n",
      "tensor([[0.2384, 0.0132],\n",
      "        [0.2308, 0.8650],\n",
      "        [0.8203, 0.4881]])\n",
      "torch.Size([3, 2])\n",
      "torch.float32\n"
     ]
    }
   ],
   "source": [
    "#other functions:\n",
    "x_ones_like = torch.ones_like(x_tensor) #acquisice tutte le proprietà del tensore che gli passo come parametro, ma tutti 1\n",
    "print(x_ones_like)\n",
    "print(x_ones_like.shape)\n",
    "print(x_ones_like.dtype)\n",
    "#copia tutte le caratteristiche tranne i numeri che lo compongono \n",
    "\n",
    "'''\n",
    "Quindi uun tensore è un oggetto della classe Tensor, e come tale ha degli attributi come: data , shape \n",
    "dtype, device(dove si trova il tensore in memoria), requires_grad (questo è un bool), grad (gradiente calcolato per questo tensore),\n",
    "grad_fn, grad_fn.grad_fn, is_leaf, is_meta, layout,\n",
    "'''\n",
    "\n",
    "x_rand_like = torch.rand_like(x_tensor , dtype=torch.float) #attenzione se non specifico quel datatype mi da un errore. perchè è int32\n",
    "print(x_rand_like)\n",
    "print(x_rand_like.shape)    \n",
    "print(x_rand_like.dtype)    \n",
    "\n",
    "\n"
   ]
  },
  {
   "cell_type": "markdown",
   "metadata": {},
   "source": [
    "ATTENNZIONE: IN GENERALE è MOLTO UTILE STAMPARE MOLTE VOLTE LE SHAPE DEI TENSORI DURANTE I CALCOLI NELLA PARTE DI FORWARD DELLE RETI. PERCHE SONO UN OTTIMO INDICE PER CAPIRE SE CI SONO ERRORI NEL CODICE O SE SONO PRESENTI DELLE INCOMPATIBILITA'. ATTENZIONE "
   ]
  },
  {
   "cell_type": "markdown",
   "metadata": {},
   "source": [
    "Indexing e slicing"
   ]
  },
  {
   "cell_type": "code",
   "execution_count": 8,
   "metadata": {},
   "outputs": [
    {
     "name": "stdout",
     "output_type": "stream",
     "text": [
      "torch.Size([3, 4, 4])\n",
      "tensor([[[0.0931, 0.2885, 0.6243, 0.4795],\n",
      "         [0.4047, 0.7522, 0.8269, 0.0583],\n",
      "         [0.9363, 0.0703, 0.0276, 0.9492],\n",
      "         [0.3822, 0.6922, 0.8661, 0.5728]],\n",
      "\n",
      "        [[0.3827, 0.1850, 0.0161, 0.4339],\n",
      "         [0.2739, 0.3836, 0.6696, 0.9054],\n",
      "         [0.4631, 0.6699, 0.4543, 0.6196],\n",
      "         [0.7439, 0.4275, 0.6936, 0.0716]],\n",
      "\n",
      "        [[0.5990, 0.2131, 0.9177, 0.8412],\n",
      "         [0.4800, 0.1457, 0.6503, 0.6095],\n",
      "         [0.8422, 0.3206, 0.1560, 0.5669],\n",
      "         [0.0043, 0.6376, 0.7845, 0.5218]]])\n",
      "\n",
      "\n",
      "------------------------------------\n",
      "\n",
      "\n",
      "tensor([0.4047, 0.7522, 0.8269, 0.0583])\n",
      "\n",
      "\n",
      "------------------------------------\n",
      "\n",
      "\n",
      "tensor(0.0931)\n",
      "\n",
      "\n",
      "------------------------------------\n",
      "\n",
      "\n",
      "tensor([0.5990, 0.2131, 0.9177, 0.8412])\n",
      "\n",
      "\n",
      "------------------------------------\n",
      "\n",
      "\n",
      "tensor([0.0931, 0.4047, 0.9363, 0.3822])\n",
      "\n",
      "\n",
      "------------------------------------\n",
      "\n",
      "\n",
      "tensor([[0.0931, 0.4047, 0.9363, 0.3822],\n",
      "        [0.3827, 0.2739, 0.4631, 0.7439],\n",
      "        [0.5990, 0.4800, 0.8422, 0.0043]])\n",
      "\n",
      "\n",
      "------------------------------------\n",
      "\n",
      "\n"
     ]
    }
   ],
   "source": [
    "def spazio():\n",
    "    print(\"\\n\")\n",
    "    print(\"------------------------------------\")\n",
    "    print(\"\\n\")\n",
    "\n",
    "x_rand = torch.rand(3, 4 ,4 ) #nota che il primo numero sono in canali.\n",
    "print(x_rand.shape)    \n",
    "print(x_rand)\n",
    "spazio()\n",
    "print(x_rand[0,1])\n",
    "spazio()\n",
    "print(x_rand[0,0,0])\n",
    "spazio()\n",
    "print(x_rand[2,0])\n",
    "spazio()\n",
    "# se voglio printare la colonna 0 di un i canale\n",
    "print(x_rand[0,:,0])\n",
    "spazio()\n",
    "# se voglio printare la colonna 0 di tutti i canali\n",
    "print(x_rand[:,:,0])\n",
    "spazio()"
   ]
  },
  {
   "cell_type": "code",
   "execution_count": 9,
   "metadata": {},
   "outputs": [
    {
     "name": "stdout",
     "output_type": "stream",
     "text": [
      "tensor([[[ 1.8249, -1.8717, -0.9248],\n",
      "         [-0.9550,  1.0359, -0.7188],\n",
      "         [-3.0337, -0.8739,  2.4132]],\n",
      "\n",
      "        [[ 0.1008, -0.5273,  0.1264],\n",
      "         [-1.0754,  1.7451,  1.0141],\n",
      "         [ 1.3606, -0.3268, -1.4474]],\n",
      "\n",
      "        [[ 0.4182, -0.6699, -0.0685],\n",
      "         [ 0.4893, -0.5215,  1.5553],\n",
      "         [-1.0479, -0.4898,  1.3264]]])\n",
      "\n",
      "\n",
      "------------------------------------\n",
      "\n",
      "\n",
      "tensor([[[10.0000, -1.8717, -0.9248],\n",
      "         [-0.9550,  1.0359, -0.7188],\n",
      "         [-3.0337, -0.8739,  2.4132]],\n",
      "\n",
      "        [[10.0000, -0.5273,  0.1264],\n",
      "         [-1.0754,  1.7451,  1.0141],\n",
      "         [ 1.3606, -0.3268, -1.4474]],\n",
      "\n",
      "        [[10.0000, -0.6699, -0.0685],\n",
      "         [ 0.4893, -0.5215,  1.5553],\n",
      "         [-1.0479, -0.4898,  1.3264]]])\n"
     ]
    }
   ],
   "source": [
    "#i tensori sono mutabili:\n",
    "A = torch.randn(size =  (3, 3, 3) , dtype= torch.float32)\n",
    "print(A)\n",
    "spazio()\n",
    "A[:,0,0] = 10 #Cambia io primo elemento della prima riga ti tutti i canali\n",
    "print(A)"
   ]
  },
  {
   "cell_type": "code",
   "execution_count": 10,
   "metadata": {},
   "outputs": [
    {
     "name": "stdout",
     "output_type": "stream",
     "text": [
      "tensor([[1., 1.],\n",
      "        [1., 1.]])\n",
      "\n",
      "\n",
      "------------------------------------\n",
      "\n",
      "\n",
      "tensor([[1., 1.],\n",
      "        [1., 1.],\n",
      "        [1., 1.],\n",
      "        [1., 1.]])\n",
      "\n",
      "\n",
      "------------------------------------\n",
      "\n",
      "\n",
      "tensor([[1., 1., 1., 1.],\n",
      "        [1., 1., 1., 1.]])\n",
      "\n",
      "\n",
      "------------------------------------\n",
      "\n",
      "\n"
     ]
    }
   ],
   "source": [
    "B_ones  = torch.ones(size=(2,2) , dtype=torch.float32)\n",
    "#funzione cat, che concatena il tensore:\n",
    "print(B_ones)\n",
    "spazio()\n",
    "t1 = torch.cat(tensors=(B_ones,B_ones), dim=0)\n",
    "print(t1)\n",
    "spazio()\n",
    "t2 = torch.cat(tensors=(B_ones,B_ones), dim=1)\n",
    "print(t2)\n",
    "spazio()"
   ]
  },
  {
   "cell_type": "code",
   "execution_count": 11,
   "metadata": {},
   "outputs": [
    {
     "name": "stdout",
     "output_type": "stream",
     "text": [
      "tensor([[[1., 1., 1.],\n",
      "         [1., 1., 1.],\n",
      "         [1., 1., 1.]],\n",
      "\n",
      "        [[1., 1., 1.],\n",
      "         [1., 1., 1.],\n",
      "         [1., 1., 1.]],\n",
      "\n",
      "        [[1., 1., 1.],\n",
      "         [1., 1., 1.],\n",
      "         [1., 1., 1.]]])\n",
      "\n",
      "\n",
      "------------------------------------\n",
      "\n",
      "\n",
      "tensor([[[1., 1., 1.],\n",
      "         [1., 1., 1.],\n",
      "         [1., 1., 1.]],\n",
      "\n",
      "        [[1., 1., 1.],\n",
      "         [1., 1., 1.],\n",
      "         [1., 1., 1.]],\n",
      "\n",
      "        [[1., 1., 1.],\n",
      "         [1., 1., 1.],\n",
      "         [1., 1., 1.]],\n",
      "\n",
      "        [[1., 1., 1.],\n",
      "         [1., 1., 1.],\n",
      "         [1., 1., 1.]],\n",
      "\n",
      "        [[1., 1., 1.],\n",
      "         [1., 1., 1.],\n",
      "         [1., 1., 1.]],\n",
      "\n",
      "        [[1., 1., 1.],\n",
      "         [1., 1., 1.],\n",
      "         [1., 1., 1.]]])\n",
      "\n",
      "\n",
      "------------------------------------\n",
      "\n",
      "\n"
     ]
    },
    {
     "data": {
      "text/plain": [
       "'t5 = torch.cat(tensor = [B2_ones, B2_ones], dim=1)\\nprint(t5)\\nspazio()'"
      ]
     },
     "execution_count": 11,
     "metadata": {},
     "output_type": "execute_result"
    }
   ],
   "source": [
    "#cosa succede se il tensore è piu complicato?\n",
    "B2_ones = torch.ones(size=(3,3 , 3) , dtype=torch.float32)\n",
    "print(B2_ones)\n",
    "spazio()\n",
    "t4 = torch.cat([B2_ones, B2_ones], dim=0)\n",
    "print(t4)\n",
    "spazio()\n",
    "'''t5 = torch.cat(tensor = [B2_ones, B2_ones], dim=1)\n",
    "print(t5)\n",
    "spazio()'''"
   ]
  },
  {
   "cell_type": "markdown",
   "metadata": {},
   "source": [
    "Operazioni tra tensori:"
   ]
  },
  {
   "cell_type": "code",
   "execution_count": 12,
   "metadata": {},
   "outputs": [
    {
     "name": "stdout",
     "output_type": "stream",
     "text": [
      "tensor([[1., 1.],\n",
      "        [1., 1.]])\n",
      "\n",
      "\n",
      "------------------------------------\n",
      "\n",
      "\n",
      "tensor([[2., 2.],\n",
      "        [2., 2.]])\n",
      "\n",
      "\n",
      "------------------------------------\n",
      "\n",
      "\n",
      "tensor([[[3., 3., 3.],\n",
      "         [3., 3., 3.],\n",
      "         [3., 3., 3.]],\n",
      "\n",
      "        [[3., 3., 3.],\n",
      "         [3., 3., 3.],\n",
      "         [3., 3., 3.]],\n",
      "\n",
      "        [[3., 3., 3.],\n",
      "         [3., 3., 3.],\n",
      "         [3., 3., 3.]]])\n",
      "\n",
      "\n",
      "------------------------------------\n",
      "\n",
      "\n",
      "tensor([[[1., 1.],\n",
      "         [1., 1.]],\n",
      "\n",
      "        [[1., 1.],\n",
      "         [1., 1.]],\n",
      "\n",
      "        [[1., 1.],\n",
      "         [1., 1.]]])\n",
      "\n",
      "\n",
      "------------------------------------\n",
      "\n",
      "\n",
      "tensor([[[2., 2.],\n",
      "         [2., 2.]],\n",
      "\n",
      "        [[2., 2.],\n",
      "         [2., 2.]],\n",
      "\n",
      "        [[2., 2.],\n",
      "         [2., 2.]]])\n",
      "\n",
      "\n",
      "------------------------------------\n",
      "\n",
      "\n",
      "tensor([[[2., 2.],\n",
      "         [2., 2.]],\n",
      "\n",
      "        [[2., 2.],\n",
      "         [2., 2.]],\n",
      "\n",
      "        [[2., 2.],\n",
      "         [2., 2.]]])\n",
      "\n",
      "\n",
      "------------------------------------\n",
      "\n",
      "\n",
      "tensor([[[2., 2.],\n",
      "         [2., 2.]],\n",
      "\n",
      "        [[2., 2.],\n",
      "         [2., 2.]],\n",
      "\n",
      "        [[2., 2.],\n",
      "         [2., 2.]]])\n",
      "\n",
      "\n",
      "------------------------------------\n",
      "\n",
      "\n"
     ]
    }
   ],
   "source": [
    "#moltiplicazione matriciale:\n",
    "print(B_ones)\n",
    "spazio()\n",
    "y1 = torch.matmul(B_ones , B_ones)\n",
    "print(y1)\n",
    "spazio()\n",
    "#complichiamo\n",
    "y2= torch.matmul(B2_ones, B2_ones) #eh devi capire come funzionano i moltiplicatori tra matrici\n",
    "print(y2)   \n",
    "spazio()\n",
    "c = torch.ones(size=(3,2,2) , dtype=torch.float32)\n",
    "print(c)    \n",
    "spazio()\n",
    "y3= torch.matmul(c , c)\n",
    "print(y3)\n",
    "spazio()\n",
    "y3= c.matmul(c)\n",
    "print(y3)\n",
    "spazio()\n",
    "y3= c @ c\n",
    "print(y3)\n",
    "spazio()\n"
   ]
  },
  {
   "cell_type": "markdown",
   "metadata": {},
   "source": [
    "Element wise"
   ]
  },
  {
   "cell_type": "code",
   "execution_count": 13,
   "metadata": {},
   "outputs": [
    {
     "name": "stdout",
     "output_type": "stream",
     "text": [
      "tensor([[[1., 1., 1.],\n",
      "         [1., 1., 1.],\n",
      "         [1., 1., 1.]],\n",
      "\n",
      "        [[1., 1., 1.],\n",
      "         [1., 1., 1.],\n",
      "         [1., 1., 1.]],\n",
      "\n",
      "        [[1., 1., 1.],\n",
      "         [1., 1., 1.],\n",
      "         [1., 1., 1.]]])\n",
      "\n",
      "\n",
      "------------------------------------\n",
      "\n",
      "\n",
      "tensor([[[1., 1., 1.],\n",
      "         [1., 1., 1.],\n",
      "         [1., 1., 1.]],\n",
      "\n",
      "        [[1., 1., 1.],\n",
      "         [1., 1., 1.],\n",
      "         [1., 1., 1.]],\n",
      "\n",
      "        [[1., 1., 1.],\n",
      "         [1., 1., 1.],\n",
      "         [1., 1., 1.]]])\n",
      "\n",
      "\n",
      "------------------------------------\n",
      "\n",
      "\n",
      "tensor([[[1., 1., 1.],\n",
      "         [1., 1., 1.],\n",
      "         [1., 1., 1.]],\n",
      "\n",
      "        [[1., 1., 1.],\n",
      "         [1., 1., 1.],\n",
      "         [1., 1., 1.]],\n",
      "\n",
      "        [[1., 1., 1.],\n",
      "         [1., 1., 1.],\n",
      "         [1., 1., 1.]]])\n",
      "\n",
      "\n",
      "------------------------------------\n",
      "\n",
      "\n",
      "tensor([[[1., 1., 1.],\n",
      "         [1., 1., 1.],\n",
      "         [1., 1., 1.]],\n",
      "\n",
      "        [[1., 1., 1.],\n",
      "         [1., 1., 1.],\n",
      "         [1., 1., 1.]],\n",
      "\n",
      "        [[1., 1., 1.],\n",
      "         [1., 1., 1.],\n",
      "         [1., 1., 1.]]])\n",
      "\n",
      "\n",
      "------------------------------------\n",
      "\n",
      "\n"
     ]
    }
   ],
   "source": [
    "print(B2_ones)\n",
    "spazio()\n",
    "z1 = torch.mul(B2_ones , B2_ones)\n",
    "print(z1)\n",
    "spazio()\n",
    "z1= B2_ones.mul(B2_ones)\n",
    "print(z1)\n",
    "spazio()\n",
    "z1= B2_ones * B2_ones\n",
    "print(z1)   \n",
    "spazio()"
   ]
  },
  {
   "cell_type": "markdown",
   "metadata": {},
   "source": [
    "Operazioni di statistiche:"
   ]
  },
  {
   "cell_type": "code",
   "execution_count": 14,
   "metadata": {},
   "outputs": [
    {
     "name": "stdout",
     "output_type": "stream",
     "text": [
      "tensor([[[1., 1., 1.],\n",
      "         [1., 1., 1.],\n",
      "         [1., 1., 1.]],\n",
      "\n",
      "        [[1., 1., 1.],\n",
      "         [1., 1., 1.],\n",
      "         [1., 1., 1.]],\n",
      "\n",
      "        [[1., 1., 1.],\n",
      "         [1., 1., 1.],\n",
      "         [1., 1., 1.]]])\n",
      "\n",
      "\n",
      "------------------------------------\n",
      "\n",
      "\n",
      "tensor(27.)\n",
      "torch.Size([])\n",
      "<class 'torch.Tensor'>\n",
      "\n",
      "\n",
      "------------------------------------\n",
      "\n",
      "\n",
      "27.0\n",
      "<class 'float'>\n",
      "\n",
      "\n",
      "------------------------------------\n",
      "\n",
      "\n"
     ]
    }
   ],
   "source": [
    "print(z1)\n",
    "spazio()\n",
    "\n",
    "sum = z1.sum()\n",
    "print(sum)\n",
    "print(sum.shape)\n",
    "print(type(sum))\n",
    "spazio()\n",
    "\n",
    "#come faccio a trasformarlo in uno scalare?\n",
    "sum = sum.item() #estrae l'elemento del tensore\n",
    "print(sum)\n",
    "print(type(sum))\n",
    "spazio()\n",
    "\n"
   ]
  },
  {
   "cell_type": "markdown",
   "metadata": {},
   "source": [
    "Operazione inplace:"
   ]
  },
  {
   "cell_type": "code",
   "execution_count": 15,
   "metadata": {},
   "outputs": [
    {
     "name": "stdout",
     "output_type": "stream",
     "text": [
      "tensor([[[1., 1., 1.],\n",
      "         [1., 1., 1.],\n",
      "         [1., 1., 1.]],\n",
      "\n",
      "        [[1., 1., 1.],\n",
      "         [1., 1., 1.],\n",
      "         [1., 1., 1.]],\n",
      "\n",
      "        [[1., 1., 1.],\n",
      "         [1., 1., 1.],\n",
      "         [1., 1., 1.]]])\n",
      "\n",
      "\n",
      "------------------------------------\n",
      "\n",
      "\n",
      "tensor([[[6., 6., 6.],\n",
      "         [6., 6., 6.],\n",
      "         [6., 6., 6.]],\n",
      "\n",
      "        [[6., 6., 6.],\n",
      "         [6., 6., 6.],\n",
      "         [6., 6., 6.]],\n",
      "\n",
      "        [[6., 6., 6.],\n",
      "         [6., 6., 6.],\n",
      "         [6., 6., 6.]]])\n",
      "\n",
      "\n",
      "------------------------------------\n",
      "\n",
      "\n",
      "tensor([[[11., 11., 11.],\n",
      "         [11., 11., 11.],\n",
      "         [11., 11., 11.]],\n",
      "\n",
      "        [[11., 11., 11.],\n",
      "         [11., 11., 11.],\n",
      "         [11., 11., 11.]],\n",
      "\n",
      "        [[11., 11., 11.],\n",
      "         [11., 11., 11.],\n",
      "         [11., 11., 11.]]])\n"
     ]
    }
   ],
   "source": [
    "print(z1)\n",
    "spazio()\n",
    "print(z1.add_(5))\n",
    "spazio()\n",
    "print(z1+5)"
   ]
  },
  {
   "cell_type": "code",
   "execution_count": 16,
   "metadata": {},
   "outputs": [
    {
     "name": "stdout",
     "output_type": "stream",
     "text": [
      "tensor([1., 1., 1., 1., 1.])\n",
      "<class 'torch.Tensor'>\n",
      "torch.Size([5])\n",
      "\n",
      "\n",
      "------------------------------------\n",
      "\n",
      "\n",
      "[1. 1. 1. 1. 1.]\n",
      "<class 'numpy.ndarray'>\n",
      "(5,)\n",
      "\n",
      "\n",
      "------------------------------------\n",
      "\n",
      "\n"
     ]
    }
   ],
   "source": [
    "#Vediamo come passare da tensor a numpy:\n",
    "b = torch.ones(size=(5,)) #stiamo creando un vettore\n",
    "print(b)\n",
    "print(type(b))\n",
    "print(b.shape)\n",
    "spazio()\n",
    "\n",
    "numpy_b = b.numpy()\n",
    "print(numpy_b)\n",
    "print(type(numpy_b))\n",
    "print(numpy_b.shape)\n",
    "spazio()"
   ]
  },
  {
   "cell_type": "markdown",
   "metadata": {},
   "source": [
    "ATTENZIONE!!!"
   ]
  },
  {
   "cell_type": "code",
   "execution_count": 17,
   "metadata": {},
   "outputs": [
    {
     "name": "stdout",
     "output_type": "stream",
     "text": [
      "tensor([1., 1., 1., 1., 1.], dtype=torch.float64)\n",
      "\n",
      "\n",
      "------------------------------------\n",
      "\n",
      "\n",
      "[1. 1. 1. 1. 1.]\n",
      "\n",
      "\n",
      "------------------------------------\n",
      "\n",
      "\n",
      "[11. 11. 11. 11. 11.]\n",
      "tensor([11., 11., 11., 11., 11.], dtype=torch.float64)\n",
      "\n",
      "\n",
      "------------------------------------\n",
      "\n",
      "\n",
      "[21. 21. 21. 21. 21.]\n",
      "tensor([11., 11., 11., 11., 11.], dtype=torch.float64)\n",
      "\n",
      "\n",
      "------------------------------------\n",
      "\n",
      "\n"
     ]
    }
   ],
   "source": [
    "D = torch.ones(size=(5,) , dtype=torch.float64)\n",
    "print(D)\n",
    "spazio()\n",
    "n_D = D.numpy()\n",
    "print(n_D)\n",
    "spazio()\n",
    "\n",
    "#Attenzione a quello che faccio:\n",
    "np.add(n_D , 10 , out=n_D) \n",
    "print(n_D)\n",
    "print(D)\n",
    "spazio()\n",
    "\n",
    "'''\n",
    "    Attenzione perchè spostiamo il numpy ma stiamo scambiando il riferimento. L'ggetto D continua ad esistere, e\n",
    "    la variabile D che codifica un oggetto tensor, punta alla stessa zona di memoria a cui punta n_D.\n",
    "    Non viene creato un nuovo oggetto numpy. \n",
    "    Quindi se modifico i valori nell'array numpy, modifico la stessa zona di memoria di D. Quindi vedo le stesse modifiche.\n",
    "'''\n",
    "\n",
    "#questo non accade se non faccio le inplace: questo perchè creo un nuovo oggetto numpy, i cui valori sono presi da un altro oggetto. La zona di memoria è differente.\n",
    "n_D = n_D + 10\n",
    "print(n_D)\n",
    "print(D)\n",
    "spazio()\n",
    "\n"
   ]
  }
 ],
 "metadata": {
  "kernelspec": {
   "display_name": "base",
   "language": "python",
   "name": "python3"
  },
  "language_info": {
   "codemirror_mode": {
    "name": "ipython",
    "version": 3
   },
   "file_extension": ".py",
   "mimetype": "text/x-python",
   "name": "python",
   "nbconvert_exporter": "python",
   "pygments_lexer": "ipython3",
   "version": "3.9.13"
  }
 },
 "nbformat": 4,
 "nbformat_minor": 2
}
