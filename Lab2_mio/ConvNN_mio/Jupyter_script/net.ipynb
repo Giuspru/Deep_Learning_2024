{
 "cells": [
  {
   "cell_type": "markdown",
   "metadata": {},
   "source": [
    "Lo scopo di questa parte di esercitazione sarà quello di creare un classificatore di immagini sfruttando una rete neurlae convoluzionale.\n",
    "\n",
    "Lassificazione di Datasetmnist."
   ]
  },
  {
   "cell_type": "markdown",
   "metadata": {},
   "source": [
    "Come prima cosa iniziamo con l'implemetazione di una rete neurale convoluzionale.\n",
    "\n",
    "Ovviamente la classe non esiste, e pertanto la dobbiamo implementare noi a mano. \n",
    "\n",
    "Pytorch permette salvare un blocco convoluzionale direttamente all'interno di una variabile., grazie alla funzione Sequential(). \n",
    "\n",
    "Questa variabile ha già inmplementato di suo il forward()."
   ]
  },
  {
   "cell_type": "code",
   "execution_count": 1,
   "metadata": {},
   "outputs": [],
   "source": [
    "import torch.nn as nn \n",
    "\n",
    "class Net(nn.Module):\n",
    "    \n",
    "    def __int__(self):\n",
    "        super(Net,self).__init__()\n",
    "\n",
    "        self.cov1 = nn.Sequential(\n",
    "            nn.Conv2d(1, 32, kernel_size=3, padding=1),\n",
    "            nn.BatchNorm2d(32),\n",
    "            nn.ReLU(),\n",
    "            nn.MaxPool2d(kernel_size=2 , stride=2)\n",
    "        )\n",
    "\n",
    "        self.conv2 = nn.Sequential(\n",
    "            nn.Conv2d(32, 64, kernel_size=3, padding=1 , stride=1),\n",
    "            nn.BatchNorm2d(64),\n",
    "            nn.ReLU(),\n",
    "            nn.MaxPool2d(kernel_size=2 , stride=2)\n",
    "        )\n",
    "\n",
    "        self.fc = nn.Linear(7*7*64, 10)\n",
    "\n",
    "\n",
    "    def forward(self , x):\n",
    "        conv1 = self.conv1(x)\n",
    "        conv2 = self.conv2(conv1)\n",
    "        flat = conv2.view(conv2.size(0), -1)\n",
    "        out = self.fc(flat)\n",
    "\n",
    "        return out\n",
    "        \n",
    "\n",
    "    \n",
    "\n",
    "    "
   ]
  },
  {
   "cell_type": "markdown",
   "metadata": {},
   "source": [
    "Siegazione codice: \n",
    "-La funzione Sequential prende come parametri un numero di layers. Ed ha già implementato il forward che funzionerà per ogni layer.\n",
    "\n",
    "-Viene chiamata la forward a catena per tutti i layer.\n",
    "\n",
    "-nn.Conv2d è un layer convoluzionale, 2d perchè usa filtri bidimensionali, che poi si sviluppano sulla profondità dell'input. \n",
    "\n",
    "-Il alyer vuole sapere il numero di canali di input. Mentre il alyer linear vuole sapere il numerto delle features, lui vuole sapere quanti canali ha il tensore che entra in input. Questo lo vuole sapere perchè poi deve istanziare dei filtri che siano compatibili con la profondità del sistema. Poi vuole sapere quanti filtri utilizzare. Poi gli altri due hyperparameters. \n",
    "\n",
    "-Tutti gli hyper sono già settati.\n",
    "\n",
    "-nn.BatchNorm2d è il layer che effettua una batch normalization utile per favorire la convergenza durante l'addestramento. Si mette sempre prima di relu.\n",
    "Unico parametro è il numero di features map che gli entrano\n",
    "\n",
    "-nn.Maxpooling2d che ha differenti valori di default per i parametri, kenrel 2x2 e sottocampioniamo di 2. \n",
    "\n",
    "-Il secondo layer convoluzionale praticamente è identico, se non che cambiano le dimensioni degli elementi che entrano nel layer conv. \n",
    "\n",
    "-Avremo in entrata un input di 32 canali e vogliamo in uscita un volume con 64 canali. \n",
    "\n",
    "-Infine il fully connected, è quello che farà la classificazione finale. Su questo dobbiamo porre attenzione. Il numero di input features del fc non è semplicissimo da calcolare, devo fare io i conti. \n",
    "In questo caso, parto dalla 28x28 e dopo 4 strati convoluzionali arrivo ad una 7x7. \n",
    "\n",
    "-Cosa succede se ho 150 layers? Tipicamente nel costruttore si istanzia un vettore random, delle dimensioni pari all'input della rete. e a questo gli faccio fare un forward come scritto sotto.\n",
    "\n",
    "\"dummy_input = torch.rand(1, 1, 28, 28)\n",
    "output = self.conv2(self.conv1(dummy_input))\n",
    "b,c,h,w = output.size()\n",
    "self.fc = nn.Linear(c*h*w, 10)\""
   ]
  }
 ],
 "metadata": {
  "kernelspec": {
   "display_name": "base",
   "language": "python",
   "name": "python3"
  },
  "language_info": {
   "codemirror_mode": {
    "name": "ipython",
    "version": 3
   },
   "file_extension": ".py",
   "mimetype": "text/x-python",
   "name": "python",
   "nbconvert_exporter": "python",
   "pygments_lexer": "ipython3",
   "version": "3.9.13"
  }
 },
 "nbformat": 4,
 "nbformat_minor": 2
}
