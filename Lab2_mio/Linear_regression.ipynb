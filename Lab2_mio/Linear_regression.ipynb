{
 "cells": [
  {
   "cell_type": "markdown",
   "metadata": {},
   "source": [
    "L'idea è che vogliamo prendere confidenza con il framework di pytorch, e pertanto inizieremp con la parte un pò più semplice che è quella dei modelli già visti, ma che non c'entrano nienete, o c'entrano in minima parte con le reti neurali. Inizieremo con Linear regression.\n",
    "\n",
    "link alla libreria di pytorch: https://pytorch.org/docs/stable/generated/torch.nn.Linear.html"
   ]
  },
  {
   "cell_type": "code",
   "execution_count": 1,
   "metadata": {},
   "outputs": [],
   "source": [
    "import torch\n",
    "import torch.nn as nn\n",
    "import numpy as np\n",
    "import matplotlib.pyplot as plt"
   ]
  },
  {
   "cell_type": "code",
   "execution_count": 68,
   "metadata": {},
   "outputs": [],
   "source": [
    "#Hyperparameters:\n",
    "input_size = 1\n",
    "output_size = 1\n",
    "num_epochs = 60\n",
    "learning_rate = 0.001\n",
    "\n"
   ]
  },
  {
   "cell_type": "code",
   "execution_count": 69,
   "metadata": {},
   "outputs": [],
   "source": [
    "# Toy dataset\n",
    "x_train = np.array([[3.3], [4.4], [5.5], [6.71], [6.93], [4.168],      #sono 15 samples con una sola feature\n",
    "                    [9.779], [6.182], [7.59], [2.167], [7.042],\n",
    "                    [10.791], [5.313], [7.997], [3.1]], dtype=np.float32)\n",
    "\n",
    "y_train = np.array([[1.7], [2.76], [2.09], [3.19], [1.694], [1.573],   #Sono le 15 etichette.\n",
    "                    [3.366], [2.596], [2.53], [1.221], [2.827],\n",
    "                    [3.465], [1.65], [2.904], [1.3]], dtype=np.float32)"
   ]
  },
  {
   "cell_type": "code",
   "execution_count": 70,
   "metadata": {},
   "outputs": [
    {
     "data": {
      "text/plain": [
       "'\\nQuesto di fatto è il layer linear che di solito si implementa in una rete neurale. Il fatto che non sia in una nn e il fatto che non abbia una funzione di attivazione \\nlo rende semplicemente W.t * x + b. \\n'"
      ]
     },
     "execution_count": 70,
     "metadata": {},
     "output_type": "execute_result"
    }
   ],
   "source": [
    "#Linear Regression model:\n",
    "#Lo erediatiamo direttamente dal modello di pytorch, iinvocando la classe Linear. Non dobbiamo creane una come abbiamo fatto in altri scripts.\n",
    "\n",
    "model = nn.Linear(input_size, output_size) #Abbiamo una feature e un solo output.\n",
    "\n",
    "'''\n",
    "Questo di fatto è il layer linear che di solito si implementa in una rete neurale. Il fatto che non sia in una nn e il fatto che non abbia una funzione di attivazione \n",
    "lo rende semplicemente W.t * x + b. \n",
    "'''\n",
    "\n"
   ]
  },
  {
   "cell_type": "markdown",
   "metadata": {},
   "source": [
    "Una piccola accortezza, il numero di features da instanziare e il numero di output da instanziare serve al modello a capire quanti parametri sono presenti nel modello. Ricordati che come visto negli scripts precedenti, l'oggetto optimizer richiede come argomento dei parametri, che noi forniamo così: model.parameters()"
   ]
  },
  {
   "cell_type": "code",
   "execution_count": 71,
   "metadata": {},
   "outputs": [],
   "source": [
    "#Loss and optimization:\n",
    "\n",
    "criterion = nn.MSELoss()\n",
    "optimizer = torch.optim.SGD(model.parameters(), lr=learning_rate) #Si fa perchè altrimenti devo fare inversione della matrice dei parametri.\n",
    "\n"
   ]
  },
  {
   "cell_type": "markdown",
   "metadata": {},
   "source": [
    "Aquesto punto inizio il LOOP di addestramento del modello. In questo caso molto semplice non si usa il loop sulle batches, perchè ho molti pochi ccampioni. Efffettuo direttamente il loop sulle epoche. Ogni volta li processo tutti insieme i dati."
   ]
  },
  {
   "cell_type": "code",
   "execution_count": 72,
   "metadata": {},
   "outputs": [
    {
     "name": "stdout",
     "output_type": "stream",
     "text": [
      "Epoch [5/60], Loss: 18.1893\n",
      "Epoch [10/60], Loss: 7.4901\n",
      "Epoch [15/60], Loss: 3.1557\n",
      "Epoch [20/60], Loss: 1.3997\n",
      "Epoch [25/60], Loss: 0.6882\n",
      "Epoch [30/60], Loss: 0.3999\n",
      "Epoch [35/60], Loss: 0.2831\n",
      "Epoch [40/60], Loss: 0.2357\n",
      "Epoch [45/60], Loss: 0.2165\n",
      "Epoch [50/60], Loss: 0.2086\n",
      "Epoch [55/60], Loss: 0.2054\n",
      "Epoch [60/60], Loss: 0.2040\n"
     ]
    }
   ],
   "source": [
    "#Train Loop:\n",
    "\n",
    "for epoch in range(num_epochs):\n",
    "    \n",
    "    # Convert numpy arrays to torch tensors, ricorda numpy non compatibile con framework pytorch\n",
    "    inputs = torch.from_numpy(x_train)\n",
    "    targets = torch.from_numpy(y_train)\n",
    "\n",
    "    # Forward pass:\n",
    "    outputs = model.forward(inputs) #il nostro modello è una semplice linear regression.\n",
    "    loss = criterion(outputs, targets)\n",
    "\n",
    "    #bacckward pass:\n",
    "    optimizer.zero_grad()\n",
    "    loss.backward() #calcolo delle derivate\n",
    "    optimizer.step() #utilizzo dei gradienti per aggiornare i pesi\n",
    "\n",
    "    if (epoch + 1) % 5 == 0:\n",
    "        print('Epoch [{}/{}], Loss: {:.4f}'.format(epoch + 1, num_epochs, loss.item()))\n",
    "\n"
   ]
  },
  {
   "cell_type": "code",
   "execution_count": 73,
   "metadata": {},
   "outputs": [
    {
     "data": {
      "image/png": "[encoded data removed]",
      "text/plain": [
       "<Figure size 640x480 with 1 Axes>"
      ]
     },
     "metadata": {},
     "output_type": "display_data"
    }
   ],
   "source": [
    "# Plot the graph\n",
    "predicted = model(torch.from_numpy(x_train)).detach().numpy()\n",
    "plt.plot(x_train, y_train, 'ro', label='Original data')\n",
    "plt.plot(x_train, predicted, label='Fitted line')\n",
    "plt.legend()\n",
    "plt.show()"
   ]
  },
  {
   "cell_type": "markdown",
   "metadata": {},
   "source": [
    "ATTENZIONE: E' POSSIBILE SALVARE IL MODELLO NEL SUO INSIEME, QUINDI GIA' OTTIMIZZATO."
   ]
  },
  {
   "cell_type": "code",
   "execution_count": 74,
   "metadata": {},
   "outputs": [],
   "source": [
    "torch.save(model.state_dict(),'model.ckpt')"
   ]
  },
  {
   "cell_type": "markdown",
   "metadata": {},
   "source": [
    "Durante l'addestramento di modelli molto grandi, è importante fare di volta iin volta qualche checkpoint, perchè se per qualche motivo l'addestramento si dovesse interrompere, allora io posso far ripartire l'addestramento da quel punto. \n",
    "\n",
    "Di solito si effettua un checkpoint alla fine di ogni epoca."
   ]
  }
 ],
 "metadata": {
  "kernelspec": {
   "display_name": "base",
   "language": "python",
   "name": "python3"
  },
  "language_info": {
   "codemirror_mode": {
    "name": "ipython",
    "version": 3
   },
   "file_extension": ".py",
   "mimetype": "text/x-python",
   "name": "python",
   "nbconvert_exporter": "python",
   "pygments_lexer": "ipython3",
   "version": "3.9.13"
  }
 },
 "nbformat": 4,
 "nbformat_minor": 2
}
