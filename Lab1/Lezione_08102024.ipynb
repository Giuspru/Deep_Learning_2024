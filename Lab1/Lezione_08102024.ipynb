{
 "cells": [
  {
   "cell_type": "markdown",
   "metadata": {},
   "source": [
    "Let's begin with an introduction to pytorch."
   ]
  },
  {
   "cell_type": "code",
   "execution_count": 30,
   "metadata": {},
   "outputs": [],
   "source": [
    "import numpy as np \n",
    "import torch\n"
   ]
  },
  {
   "cell_type": "markdown",
   "metadata": {},
   "source": [
    "The principal element in pytorch is the tensor."
   ]
  },
  {
   "cell_type": "code",
   "execution_count": 31,
   "metadata": {},
   "outputs": [
    {
     "name": "stdout",
     "output_type": "stream",
     "text": [
      "[[1, 2], [3, 4], [5, 6]]\n",
      "<class 'list'>\n",
      "tensor([[1, 2],\n",
      "        [3, 4],\n",
      "        [5, 6]])\n",
      "<class 'torch.Tensor'>\n"
     ]
    }
   ],
   "source": [
    "#that is a list.\n",
    "data = [\n",
    "    [1, 2],\n",
    "    [3, 4],\n",
    "    [5, 6]\n",
    "]\n",
    "print(data)\n",
    "print(type(data))\n",
    "\n",
    "#that is a tensor. quando lavoreremo con le immagini lavoreremo con tensori a 4 dimensioni\n",
    "#Questo perchè l'immagine sarà formata da 3 dimensioni: altezza, larghezza e canali (RGB) più una batch dimensione. lo vedremo in seguito...\n",
    "x_data = torch.tensor(data) \n",
    "print(x_data)\n",
    "print(type(x_data))\n",
    "\n"
   ]
  },
  {
   "cell_type": "code",
   "execution_count": 32,
   "metadata": {},
   "outputs": [
    {
     "name": "stdout",
     "output_type": "stream",
     "text": [
      "[[1 2]\n",
      " [3 4]\n",
      " [5 6]]\n",
      "<class 'numpy.ndarray'>\n",
      "tensor([[1, 2],\n",
      "        [3, 4],\n",
      "        [5, 6]])\n",
      "<class 'torch.Tensor'>\n"
     ]
    }
   ],
   "source": [
    "#Posso creare un tensore partendo da un array numpy.\n",
    "import numpy as np\n",
    "np_array = np.array(data)\n",
    "print(np_array)\n",
    "print(type(np_array))\n",
    "\n",
    "#and then\n",
    "#prende in oggetto un numpy array e lo trasforma in un tensore torch.\n",
    "x_tensor = torch.from_numpy(np_array)\n",
    "print(x_tensor)\n",
    "print(type(x_tensor))"
   ]
  },
  {
   "cell_type": "code",
   "execution_count": 33,
   "metadata": {},
   "outputs": [
    {
     "name": "stdout",
     "output_type": "stream",
     "text": [
      "tensor([[[1, 1, 1],\n",
      "         [1, 1, 1],\n",
      "         [1, 1, 1],\n",
      "         [1, 1, 1]],\n",
      "\n",
      "        [[1, 1, 1],\n",
      "         [1, 1, 1],\n",
      "         [1, 1, 1],\n",
      "         [1, 1, 1]],\n",
      "\n",
      "        [[1, 1, 1],\n",
      "         [1, 1, 1],\n",
      "         [1, 1, 1],\n",
      "         [1, 1, 1]],\n",
      "\n",
      "        [[1, 1, 1],\n",
      "         [1, 1, 1],\n",
      "         [1, 1, 1],\n",
      "         [1, 1, 1]]], dtype=torch.int32)\n",
      "torch.Size([4, 4, 3])\n",
      "torch.int32\n"
     ]
    }
   ],
   "source": [
    "#alcune funzioni:\n",
    "x_ones = torch.ones(size=(4,4,3) , dtype=torch.int32) #this is a 4x4 x3 tensor. \n",
    "print(x_ones)\n",
    "print(x_ones.shape)\n",
    "print(x_ones.dtype)\n"
   ]
  },
  {
   "cell_type": "code",
   "execution_count": 34,
   "metadata": {},
   "outputs": [
    {
     "name": "stdout",
     "output_type": "stream",
     "text": [
      "tensor([[[0., 0., 0.],\n",
      "         [0., 0., 0.],\n",
      "         [0., 0., 0.],\n",
      "         [0., 0., 0.]],\n",
      "\n",
      "        [[0., 0., 0.],\n",
      "         [0., 0., 0.],\n",
      "         [0., 0., 0.],\n",
      "         [0., 0., 0.]],\n",
      "\n",
      "        [[0., 0., 0.],\n",
      "         [0., 0., 0.],\n",
      "         [0., 0., 0.],\n",
      "         [0., 0., 0.]],\n",
      "\n",
      "        [[0., 0., 0.],\n",
      "         [0., 0., 0.],\n",
      "         [0., 0., 0.],\n",
      "         [0., 0., 0.]]])\n",
      "torch.Size([4, 4, 3])\n",
      "torch.float32\n"
     ]
    }
   ],
   "source": [
    "x_zero = torch.zeros(4, 4, 3)\n",
    "print(x_zero)\n",
    "print(x_zero.shape)\n",
    "print(x_zero.dtype)"
   ]
  },
  {
   "cell_type": "code",
   "execution_count": 35,
   "metadata": {},
   "outputs": [
    {
     "name": "stdout",
     "output_type": "stream",
     "text": [
      "tensor([[[ 0.2984,  1.1838,  0.2283],\n",
      "         [ 1.2124, -0.2089, -0.3709],\n",
      "         [ 1.2870,  0.7129,  0.1439],\n",
      "         [ 0.7034, -1.0548, -0.0424]],\n",
      "\n",
      "        [[-0.4249,  0.4306,  0.2025],\n",
      "         [ 1.7144,  0.9361, -0.8138],\n",
      "         [ 1.8745,  1.6072,  0.9773],\n",
      "         [-1.7325,  1.6324,  0.1219]],\n",
      "\n",
      "        [[ 1.8066,  0.3208,  0.3949],\n",
      "         [-0.6777,  0.1000,  0.0858],\n",
      "         [-1.1362,  0.6061,  2.1683],\n",
      "         [-0.7197,  0.4004, -1.6031]],\n",
      "\n",
      "        [[-3.2223, -1.6236,  1.3183],\n",
      "         [-0.2496,  0.4313, -1.5395],\n",
      "         [-1.5285, -0.3611,  0.4311],\n",
      "         [ 2.0498,  1.2325, -0.5751]]])\n",
      "torch.float32\n",
      "torch.Size([4, 4, 3])\n"
     ]
    }
   ],
   "source": [
    "x_rand = torch.randn(size=(4,4,3) , dtype=torch.float32) #questa la posso proprio immaginare come un'immagine.\n",
    "print(x_rand)   \n",
    "print(x_rand.dtype)\n",
    "print(x_rand.shape)"
   ]
  },
  {
   "cell_type": "code",
   "execution_count": 36,
   "metadata": {},
   "outputs": [
    {
     "name": "stdout",
     "output_type": "stream",
     "text": [
      "tensor([[1, 1],\n",
      "        [1, 1],\n",
      "        [1, 1]])\n",
      "torch.Size([3, 2])\n",
      "torch.int64\n",
      "tensor([[0.0043, 0.9567],\n",
      "        [0.5263, 0.8463],\n",
      "        [0.9479, 0.3230]])\n",
      "torch.Size([3, 2])\n",
      "torch.float32\n"
     ]
    }
   ],
   "source": [
    "#other functions:\n",
    "x_ones_like = torch.ones_like(x_tensor) #acquisice tutte le proprietà del tensore che gli passo come parametro, ma tutti 1\n",
    "print(x_ones_like)\n",
    "print(x_ones_like.shape)\n",
    "print(x_ones_like.dtype)\n",
    "#copia tutte le caratteristiche tranne i numeri che lo compongono \n",
    "\n",
    "'''\n",
    "Quindi uun tensore è un oggetto della classe Tensor, e come tale ha degli attributi come: data , shape \n",
    "dtype, device(dove si trova il tensore in memoria), requires_grad (questo è un bool), grad (gradiente calcolato per questo tensore),\n",
    "grad_fn, grad_fn.grad_fn, is_leaf, is_meta, layout,\n",
    "'''\n",
    "\n",
    "x_rand_like = torch.rand_like(x_tensor , dtype=torch.float) #attenzione se non specifico quel datatype mi da un errore. perchè è int32\n",
    "print(x_rand_like)\n",
    "print(x_rand_like.shape)    \n",
    "print(x_rand_like.dtype)    \n",
    "\n",
    "\n"
   ]
  },
  {
   "cell_type": "markdown",
   "metadata": {},
   "source": [
    "ATTENNZIONE: IN GENERALE è MOLTO UTILE STAMPARE MOLTE VOLTE LE SHAPE DEI TENSORI DURANTE I CALCOLI NELLA PARTE DI FORWARD DELLE RETI. PERCHE SONO UN OTTIMO INDICE PER CAPIRE SE CI SONO ERRORI NEL CODICE O SE SONO PRESENTI DELLE INCOMPATIBILITA'. ATTENZIONE "
   ]
  },
  {
   "cell_type": "markdown",
   "metadata": {},
   "source": [
    "Indexing e slicing"
   ]
  },
  {
   "cell_type": "code",
   "execution_count": 37,
   "metadata": {},
   "outputs": [
    {
     "name": "stdout",
     "output_type": "stream",
     "text": [
      "torch.Size([3, 4, 4])\n",
      "tensor([[[0.8692, 0.7329, 0.4339, 0.0303],\n",
      "         [0.3268, 0.1557, 0.2936, 0.4398],\n",
      "         [0.9666, 0.8604, 0.8875, 0.0063],\n",
      "         [0.3809, 0.3918, 0.6764, 0.8056]],\n",
      "\n",
      "        [[0.0577, 0.0219, 0.4848, 0.3622],\n",
      "         [0.9070, 0.6077, 0.7758, 0.1249],\n",
      "         [0.8641, 0.7096, 0.9258, 0.4566],\n",
      "         [0.6141, 0.1079, 0.1756, 0.8742]],\n",
      "\n",
      "        [[0.1642, 0.1167, 0.3685, 0.8056],\n",
      "         [0.3677, 0.1127, 0.5335, 0.0623],\n",
      "         [0.9177, 0.5055, 0.9541, 0.7998],\n",
      "         [0.8997, 0.7619, 0.5844, 0.8720]]])\n",
      "\n",
      "\n",
      "------------------------------------\n",
      "\n",
      "\n",
      "tensor([0.3268, 0.1557, 0.2936, 0.4398])\n",
      "\n",
      "\n",
      "------------------------------------\n",
      "\n",
      "\n",
      "tensor(0.8692)\n",
      "\n",
      "\n",
      "------------------------------------\n",
      "\n",
      "\n",
      "tensor([0.1642, 0.1167, 0.3685, 0.8056])\n",
      "\n",
      "\n",
      "------------------------------------\n",
      "\n",
      "\n",
      "tensor([0.8692, 0.3268, 0.9666, 0.3809])\n",
      "\n",
      "\n",
      "------------------------------------\n",
      "\n",
      "\n",
      "tensor([[0.8692, 0.3268, 0.9666, 0.3809],\n",
      "        [0.0577, 0.9070, 0.8641, 0.6141],\n",
      "        [0.1642, 0.3677, 0.9177, 0.8997]])\n",
      "\n",
      "\n",
      "------------------------------------\n",
      "\n",
      "\n"
     ]
    }
   ],
   "source": [
    "def spazio():\n",
    "    print(\"\\n\")\n",
    "    print(\"------------------------------------\")\n",
    "    print(\"\\n\")\n",
    "\n",
    "x_rand = torch.rand(3, 4 ,4 ) #nota che il primo numero sono in canali.\n",
    "print(x_rand.shape)    \n",
    "print(x_rand)\n",
    "spazio()\n",
    "print(x_rand[0,1])\n",
    "spazio()\n",
    "print(x_rand[0,0,0])\n",
    "spazio()\n",
    "print(x_rand[2,0])\n",
    "spazio()\n",
    "# se voglio printare la colonna 0 di un i canale\n",
    "print(x_rand[0,:,0])\n",
    "spazio()\n",
    "# se voglio printare la colonna 0 di tutti i canali\n",
    "print(x_rand[:,:,0])\n",
    "spazio()"
   ]
  },
  {
   "cell_type": "code",
   "execution_count": 38,
   "metadata": {},
   "outputs": [
    {
     "name": "stdout",
     "output_type": "stream",
     "text": [
      "tensor([[[ 0.1352,  0.0992,  0.3674],\n",
      "         [-0.1601, -0.0502,  1.7891],\n",
      "         [ 0.6074, -1.1142,  0.8660]],\n",
      "\n",
      "        [[-0.3055, -0.3996,  1.0612],\n",
      "         [-0.0456, -0.5683,  1.6161],\n",
      "         [-0.2065,  0.0327,  0.0131]],\n",
      "\n",
      "        [[-1.0597,  0.5864, -1.7324],\n",
      "         [ 1.0528, -1.0209, -1.6113],\n",
      "         [ 0.4512,  0.7679, -0.6754]]])\n",
      "\n",
      "\n",
      "------------------------------------\n",
      "\n",
      "\n",
      "tensor([[[10.0000,  0.0992,  0.3674],\n",
      "         [-0.1601, -0.0502,  1.7891],\n",
      "         [ 0.6074, -1.1142,  0.8660]],\n",
      "\n",
      "        [[10.0000, -0.3996,  1.0612],\n",
      "         [-0.0456, -0.5683,  1.6161],\n",
      "         [-0.2065,  0.0327,  0.0131]],\n",
      "\n",
      "        [[10.0000,  0.5864, -1.7324],\n",
      "         [ 1.0528, -1.0209, -1.6113],\n",
      "         [ 0.4512,  0.7679, -0.6754]]])\n"
     ]
    }
   ],
   "source": [
    "#i tensori sono mutabili:\n",
    "A = torch.randn(size =  (3, 3, 3) , dtype= torch.float32)\n",
    "print(A)\n",
    "spazio()\n",
    "A[:,0,0] = 10 #Cambia io primo elemento della prima riga ti tutti i canali\n",
    "print(A)"
   ]
  },
  {
   "cell_type": "code",
   "execution_count": 39,
   "metadata": {},
   "outputs": [
    {
     "name": "stdout",
     "output_type": "stream",
     "text": [
      "tensor([[1., 1.],\n",
      "        [1., 1.]])\n",
      "\n",
      "\n",
      "------------------------------------\n",
      "\n",
      "\n",
      "tensor([[1., 1.],\n",
      "        [1., 1.],\n",
      "        [1., 1.],\n",
      "        [1., 1.]])\n",
      "\n",
      "\n",
      "------------------------------------\n",
      "\n",
      "\n",
      "tensor([[1., 1., 1., 1.],\n",
      "        [1., 1., 1., 1.]])\n",
      "\n",
      "\n",
      "------------------------------------\n",
      "\n",
      "\n"
     ]
    }
   ],
   "source": [
    "B_ones  = torch.ones(size=(2,2) , dtype=torch.float32)\n",
    "#funzione cat, che concatena il tensore:\n",
    "print(B_ones)\n",
    "spazio()\n",
    "t1 = torch.cat(tensors=(B_ones,B_ones), dim=0)\n",
    "print(t1)\n",
    "spazio()\n",
    "t2 = torch.cat(tensors=(B_ones,B_ones), dim=1)\n",
    "print(t2)\n",
    "spazio()"
   ]
  },
  {
   "cell_type": "code",
   "execution_count": 40,
   "metadata": {},
   "outputs": [
    {
     "name": "stdout",
     "output_type": "stream",
     "text": [
      "tensor([[[1., 1., 1.],\n",
      "         [1., 1., 1.],\n",
      "         [1., 1., 1.]],\n",
      "\n",
      "        [[1., 1., 1.],\n",
      "         [1., 1., 1.],\n",
      "         [1., 1., 1.]],\n",
      "\n",
      "        [[1., 1., 1.],\n",
      "         [1., 1., 1.],\n",
      "         [1., 1., 1.]]])\n",
      "\n",
      "\n",
      "------------------------------------\n",
      "\n",
      "\n",
      "tensor([[[1., 1., 1.],\n",
      "         [1., 1., 1.],\n",
      "         [1., 1., 1.]],\n",
      "\n",
      "        [[1., 1., 1.],\n",
      "         [1., 1., 1.],\n",
      "         [1., 1., 1.]],\n",
      "\n",
      "        [[1., 1., 1.],\n",
      "         [1., 1., 1.],\n",
      "         [1., 1., 1.]],\n",
      "\n",
      "        [[1., 1., 1.],\n",
      "         [1., 1., 1.],\n",
      "         [1., 1., 1.]],\n",
      "\n",
      "        [[1., 1., 1.],\n",
      "         [1., 1., 1.],\n",
      "         [1., 1., 1.]],\n",
      "\n",
      "        [[1., 1., 1.],\n",
      "         [1., 1., 1.],\n",
      "         [1., 1., 1.]]])\n",
      "\n",
      "\n",
      "------------------------------------\n",
      "\n",
      "\n"
     ]
    },
    {
     "data": {
      "text/plain": [
       "'t5 = torch.cat(tensor = [B2_ones, B2_ones], dim=1)\\nprint(t5)\\nspazio()'"
      ]
     },
     "execution_count": 40,
     "metadata": {},
     "output_type": "execute_result"
    }
   ],
   "source": [
    "#cosa succede se il tensore è piu complicato?\n",
    "B2_ones = torch.ones(size=(3,3 , 3) , dtype=torch.float32)\n",
    "print(B2_ones)\n",
    "spazio()\n",
    "t4 = torch.cat([B2_ones, B2_ones], dim=0)\n",
    "print(t4)\n",
    "spazio()\n",
    "'''t5 = torch.cat(tensor = [B2_ones, B2_ones], dim=1)\n",
    "print(t5)\n",
    "spazio()'''"
   ]
  },
  {
   "cell_type": "markdown",
   "metadata": {},
   "source": [
    "Operazioni tra tensori:"
   ]
  },
  {
   "cell_type": "code",
   "execution_count": 42,
   "metadata": {},
   "outputs": [
    {
     "name": "stdout",
     "output_type": "stream",
     "text": [
      "tensor([[1., 1.],\n",
      "        [1., 1.]])\n",
      "\n",
      "\n",
      "------------------------------------\n",
      "\n",
      "\n",
      "tensor([[2., 2.],\n",
      "        [2., 2.]])\n",
      "\n",
      "\n",
      "------------------------------------\n",
      "\n",
      "\n",
      "tensor([[[3., 3., 3.],\n",
      "         [3., 3., 3.],\n",
      "         [3., 3., 3.]],\n",
      "\n",
      "        [[3., 3., 3.],\n",
      "         [3., 3., 3.],\n",
      "         [3., 3., 3.]],\n",
      "\n",
      "        [[3., 3., 3.],\n",
      "         [3., 3., 3.],\n",
      "         [3., 3., 3.]]])\n",
      "\n",
      "\n",
      "------------------------------------\n",
      "\n",
      "\n",
      "tensor([[[1., 1.],\n",
      "         [1., 1.]],\n",
      "\n",
      "        [[1., 1.],\n",
      "         [1., 1.]],\n",
      "\n",
      "        [[1., 1.],\n",
      "         [1., 1.]]])\n",
      "\n",
      "\n",
      "------------------------------------\n",
      "\n",
      "\n",
      "tensor([[[2., 2.],\n",
      "         [2., 2.]],\n",
      "\n",
      "        [[2., 2.],\n",
      "         [2., 2.]],\n",
      "\n",
      "        [[2., 2.],\n",
      "         [2., 2.]]])\n",
      "\n",
      "\n",
      "------------------------------------\n",
      "\n",
      "\n",
      "tensor([[[2., 2.],\n",
      "         [2., 2.]],\n",
      "\n",
      "        [[2., 2.],\n",
      "         [2., 2.]],\n",
      "\n",
      "        [[2., 2.],\n",
      "         [2., 2.]]])\n",
      "\n",
      "\n",
      "------------------------------------\n",
      "\n",
      "\n",
      "tensor([[[2., 2.],\n",
      "         [2., 2.]],\n",
      "\n",
      "        [[2., 2.],\n",
      "         [2., 2.]],\n",
      "\n",
      "        [[2., 2.],\n",
      "         [2., 2.]]])\n",
      "\n",
      "\n",
      "------------------------------------\n",
      "\n",
      "\n"
     ]
    }
   ],
   "source": [
    "#moltiplicazione matriciale:\n",
    "print(B_ones)\n",
    "spazio()\n",
    "y1 = torch.matmul(B_ones , B_ones)\n",
    "print(y1)\n",
    "spazio()\n",
    "#complichiamo\n",
    "y2= torch.matmul(B2_ones, B2_ones) #eh devi capire come funzionano i moltiplicatori tra matrici\n",
    "print(y2)   \n",
    "spazio()\n",
    "c = torch.ones(size=(3,2,2) , dtype=torch.float32)\n",
    "print(c)    \n",
    "spazio()\n",
    "y3= torch.matmul(c , c)\n",
    "print(y3)\n",
    "spazio()\n",
    "y3= c.matmul(c)\n",
    "print(y3)\n",
    "spazio()\n",
    "y3= c @ c\n",
    "print(y3)\n",
    "spazio()\n"
   ]
  },
  {
   "cell_type": "markdown",
   "metadata": {},
   "source": [
    "Element wise"
   ]
  },
  {
   "cell_type": "code",
   "execution_count": 43,
   "metadata": {},
   "outputs": [
    {
     "name": "stdout",
     "output_type": "stream",
     "text": [
      "tensor([[[1., 1., 1.],\n",
      "         [1., 1., 1.],\n",
      "         [1., 1., 1.]],\n",
      "\n",
      "        [[1., 1., 1.],\n",
      "         [1., 1., 1.],\n",
      "         [1., 1., 1.]],\n",
      "\n",
      "        [[1., 1., 1.],\n",
      "         [1., 1., 1.],\n",
      "         [1., 1., 1.]]])\n",
      "\n",
      "\n",
      "------------------------------------\n",
      "\n",
      "\n",
      "tensor([[[1., 1., 1.],\n",
      "         [1., 1., 1.],\n",
      "         [1., 1., 1.]],\n",
      "\n",
      "        [[1., 1., 1.],\n",
      "         [1., 1., 1.],\n",
      "         [1., 1., 1.]],\n",
      "\n",
      "        [[1., 1., 1.],\n",
      "         [1., 1., 1.],\n",
      "         [1., 1., 1.]]])\n",
      "\n",
      "\n",
      "------------------------------------\n",
      "\n",
      "\n",
      "tensor([[[1., 1., 1.],\n",
      "         [1., 1., 1.],\n",
      "         [1., 1., 1.]],\n",
      "\n",
      "        [[1., 1., 1.],\n",
      "         [1., 1., 1.],\n",
      "         [1., 1., 1.]],\n",
      "\n",
      "        [[1., 1., 1.],\n",
      "         [1., 1., 1.],\n",
      "         [1., 1., 1.]]])\n",
      "\n",
      "\n",
      "------------------------------------\n",
      "\n",
      "\n",
      "tensor([[[1., 1., 1.],\n",
      "         [1., 1., 1.],\n",
      "         [1., 1., 1.]],\n",
      "\n",
      "        [[1., 1., 1.],\n",
      "         [1., 1., 1.],\n",
      "         [1., 1., 1.]],\n",
      "\n",
      "        [[1., 1., 1.],\n",
      "         [1., 1., 1.],\n",
      "         [1., 1., 1.]]])\n",
      "\n",
      "\n",
      "------------------------------------\n",
      "\n",
      "\n"
     ]
    }
   ],
   "source": [
    "print(B2_ones)\n",
    "spazio()\n",
    "z1 = torch.mul(B2_ones , B2_ones)\n",
    "print(z1)\n",
    "spazio()\n",
    "z1= B2_ones.mul(B2_ones)\n",
    "print(z1)\n",
    "spazio()\n",
    "z1= B2_ones * B2_ones\n",
    "print(z1)   \n",
    "spazio()"
   ]
  },
  {
   "cell_type": "markdown",
   "metadata": {},
   "source": [
    "Operazioni di statistiche:"
   ]
  },
  {
   "cell_type": "code",
   "execution_count": 47,
   "metadata": {},
   "outputs": [
    {
     "name": "stdout",
     "output_type": "stream",
     "text": [
      "tensor([[[1., 1., 1.],\n",
      "         [1., 1., 1.],\n",
      "         [1., 1., 1.]],\n",
      "\n",
      "        [[1., 1., 1.],\n",
      "         [1., 1., 1.],\n",
      "         [1., 1., 1.]],\n",
      "\n",
      "        [[1., 1., 1.],\n",
      "         [1., 1., 1.],\n",
      "         [1., 1., 1.]]])\n",
      "\n",
      "\n",
      "------------------------------------\n",
      "\n",
      "\n",
      "tensor(27.)\n",
      "torch.Size([])\n",
      "<class 'torch.Tensor'>\n",
      "\n",
      "\n",
      "------------------------------------\n",
      "\n",
      "\n",
      "27.0\n",
      "<class 'float'>\n"
     ]
    }
   ],
   "source": [
    "print(z1)\n",
    "spazio()\n",
    "\n",
    "sum = z1.sum()\n",
    "print(sum)\n",
    "print(sum.shape)\n",
    "print(type(sum))\n",
    "spazio()\n",
    "\n",
    "#come faccio a trasformarlo in uno scalare?\n",
    "sum = sum.item() #estrae l'elemento del tensore\n",
    "print(sum)\n",
    "print(type(sum))\n",
    "spazio()\n",
    "\n"
   ]
  },
  {
   "cell_type": "markdown",
   "metadata": {},
   "source": [
    "Operazione inplace:"
   ]
  },
  {
   "cell_type": "code",
   "execution_count": 49,
   "metadata": {},
   "outputs": [
    {
     "name": "stdout",
     "output_type": "stream",
     "text": [
      "tensor([[[6., 6., 6.],\n",
      "         [6., 6., 6.],\n",
      "         [6., 6., 6.]],\n",
      "\n",
      "        [[6., 6., 6.],\n",
      "         [6., 6., 6.],\n",
      "         [6., 6., 6.]],\n",
      "\n",
      "        [[6., 6., 6.],\n",
      "         [6., 6., 6.],\n",
      "         [6., 6., 6.]]])\n",
      "\n",
      "\n",
      "------------------------------------\n",
      "\n",
      "\n",
      "tensor([[[11., 11., 11.],\n",
      "         [11., 11., 11.],\n",
      "         [11., 11., 11.]],\n",
      "\n",
      "        [[11., 11., 11.],\n",
      "         [11., 11., 11.],\n",
      "         [11., 11., 11.]],\n",
      "\n",
      "        [[11., 11., 11.],\n",
      "         [11., 11., 11.],\n",
      "         [11., 11., 11.]]])\n",
      "\n",
      "\n",
      "------------------------------------\n",
      "\n",
      "\n",
      "tensor([[[16., 16., 16.],\n",
      "         [16., 16., 16.],\n",
      "         [16., 16., 16.]],\n",
      "\n",
      "        [[16., 16., 16.],\n",
      "         [16., 16., 16.],\n",
      "         [16., 16., 16.]],\n",
      "\n",
      "        [[16., 16., 16.],\n",
      "         [16., 16., 16.],\n",
      "         [16., 16., 16.]]])\n"
     ]
    }
   ],
   "source": [
    "print(z1)\n",
    "spazio()\n",
    "print(z1.add_(5))\n",
    "spazio()\n",
    "print(z1+5)"
   ]
  },
  {
   "cell_type": "code",
   "execution_count": 50,
   "metadata": {},
   "outputs": [
    {
     "name": "stdout",
     "output_type": "stream",
     "text": [
      "tensor([1., 1., 1., 1., 1.])\n",
      "<class 'torch.Tensor'>\n",
      "torch.Size([5])\n",
      "\n",
      "\n",
      "------------------------------------\n",
      "\n",
      "\n",
      "[1. 1. 1. 1. 1.]\n",
      "<class 'numpy.ndarray'>\n",
      "(5,)\n",
      "\n",
      "\n",
      "------------------------------------\n",
      "\n",
      "\n"
     ]
    }
   ],
   "source": [
    "#Vediamo come passare da tensor a numpy:\n",
    "b = torch.ones(size=(5,)) #stiamo creando un vettore\n",
    "print(b)\n",
    "print(type(b))\n",
    "print(b.shape)\n",
    "spazio()\n",
    "\n",
    "numpy_b = b.numpy()\n",
    "print(numpy_b)\n",
    "print(type(numpy_b))\n",
    "print(numpy_b.shape)\n",
    "spazio()"
   ]
  },
  {
   "cell_type": "markdown",
   "metadata": {},
   "source": [
    "ATTENZIONE!!!"
   ]
  },
  {
   "cell_type": "code",
   "execution_count": 55,
   "metadata": {},
   "outputs": [
    {
     "name": "stdout",
     "output_type": "stream",
     "text": [
      "tensor([1., 1., 1., 1., 1.], dtype=torch.float64)\n",
      "\n",
      "\n",
      "------------------------------------\n",
      "\n",
      "\n",
      "[1. 1. 1. 1. 1.]\n",
      "\n",
      "\n",
      "------------------------------------\n",
      "\n",
      "\n",
      "[11. 11. 11. 11. 11.]\n",
      "tensor([11., 11., 11., 11., 11.], dtype=torch.float64)\n",
      "\n",
      "\n",
      "------------------------------------\n",
      "\n",
      "\n",
      "[21. 21. 21. 21. 21.]\n",
      "tensor([11., 11., 11., 11., 11.], dtype=torch.float64)\n",
      "\n",
      "\n",
      "------------------------------------\n",
      "\n",
      "\n"
     ]
    }
   ],
   "source": [
    "D = torch.ones(size=(5,) , dtype=torch.float64)\n",
    "print(D)\n",
    "spazio()\n",
    "n_D = D.numpy()\n",
    "print(n_D)\n",
    "spazio()\n",
    "\n",
    "#Attenzione a quello che faccio:\n",
    "np.add(n_D , 10 , out=n_D) \n",
    "print(n_D)\n",
    "print(D)\n",
    "spazio()\n",
    "\n",
    "'''\n",
    "    Attenzione perchè spostiamo il numpy ma stiamo scambiando il riferimento. L'ggetto D continua ad esistere, e\n",
    "    la variabile D che codifica un oggetto tensor, punta alla stessa zona di memoria a cui punta n_D.\n",
    "    Non viene creato un nuovo oggetto numpy. \n",
    "    Quindi se modifico i valori nell'array numpy, modifico la stessa zona di memoria di D. Quindi vedo le stesse modifiche.\n",
    "'''\n",
    "\n",
    "#questo non accade se non faccio le inplace: questo perchè creo un nuovo oggetto numpy, i cui valori sono presi da un altro oggetto. La zona di memoria è differente.\n",
    "n_D = n_D + 10\n",
    "print(n_D)\n",
    "print(D)\n",
    "spazio()\n",
    "\n"
   ]
  }
 ],
 "metadata": {
  "kernelspec": {
   "display_name": "base",
   "language": "python",
   "name": "python3"
  },
  "language_info": {
   "codemirror_mode": {
    "name": "ipython",
    "version": 3
   },
   "file_extension": ".py",
   "mimetype": "text/x-python",
   "name": "python",
   "nbconvert_exporter": "python",
   "pygments_lexer": "ipython3",
   "version": "3.9.13"
  }
 },
 "nbformat": 4,
 "nbformat_minor": 2
}
