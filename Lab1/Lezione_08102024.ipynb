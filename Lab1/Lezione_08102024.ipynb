{
 "cells": [
  {
   "cell_type": "markdown",
   "metadata": {},
   "source": [
    "Let's begin with an introduction to pytorch."
   ]
  },
  {
   "cell_type": "code",
   "execution_count": 3,
   "metadata": {},
   "outputs": [],
   "source": [
    "import numpy as np \n",
    "import torch\n"
   ]
  },
  {
   "cell_type": "markdown",
   "metadata": {},
   "source": [
    "The principal element in pytorch is the tensor."
   ]
  },
  {
   "cell_type": "code",
   "execution_count": 4,
   "metadata": {},
   "outputs": [
    {
     "name": "stdout",
     "output_type": "stream",
     "text": [
      "[[1, 2], [3, 4], [5, 6]]\n",
      "<class 'list'>\n",
      "tensor([[1, 2],\n",
      "        [3, 4],\n",
      "        [5, 6]])\n",
      "<class 'torch.Tensor'>\n"
     ]
    }
   ],
   "source": [
    "#that is a list.\n",
    "data = [\n",
    "    [1, 2],\n",
    "    [3, 4],\n",
    "    [5, 6]\n",
    "]\n",
    "print(data)\n",
    "print(type(data))\n",
    "\n",
    "#that is a tensor. quando lavoreremo con le immagini lavoreremo con tensori a 4 dimensioni\n",
    "#Questo perchè l'immagine sarà formata da 3 dimensioni: altezza, larghezza e canali (RGB) più una batch dimensione. lo vedremo in seguito...\n",
    "x_data = torch.tensor(data) \n",
    "print(x_data)\n",
    "print(type(x_data))\n",
    "\n"
   ]
  },
  {
   "cell_type": "code",
   "execution_count": 5,
   "metadata": {},
   "outputs": [
    {
     "name": "stdout",
     "output_type": "stream",
     "text": [
      "[[1 2]\n",
      " [3 4]\n",
      " [5 6]]\n",
      "<class 'numpy.ndarray'>\n",
      "tensor([[1, 2],\n",
      "        [3, 4],\n",
      "        [5, 6]])\n",
      "<class 'torch.Tensor'>\n"
     ]
    }
   ],
   "source": [
    "#Posso creare un tensore partendo da un array numpy.\n",
    "import numpy as np\n",
    "np_array = np.array(data)\n",
    "print(np_array)\n",
    "print(type(np_array))\n",
    "\n",
    "#and then\n",
    "#prende in oggetto un numpy array e lo trasforma in un tensore torch.\n",
    "x_tensor = torch.from_numpy(np_array)\n",
    "print(x_tensor)\n",
    "print(type(x_tensor))"
   ]
  },
  {
   "cell_type": "code",
   "execution_count": 7,
   "metadata": {},
   "outputs": [
    {
     "name": "stdout",
     "output_type": "stream",
     "text": [
      "tensor([[[1, 1, 1, 1],\n",
      "         [1, 1, 1, 1],\n",
      "         [1, 1, 1, 1],\n",
      "         [1, 1, 1, 1]],\n",
      "\n",
      "        [[1, 1, 1, 1],\n",
      "         [1, 1, 1, 1],\n",
      "         [1, 1, 1, 1],\n",
      "         [1, 1, 1, 1]],\n",
      "\n",
      "        [[1, 1, 1, 1],\n",
      "         [1, 1, 1, 1],\n",
      "         [1, 1, 1, 1],\n",
      "         [1, 1, 1, 1]],\n",
      "\n",
      "        [[1, 1, 1, 1],\n",
      "         [1, 1, 1, 1],\n",
      "         [1, 1, 1, 1],\n",
      "         [1, 1, 1, 1]]], dtype=torch.int32)\n",
      "torch.Size([4, 4, 4])\n",
      "torch.int32\n"
     ]
    }
   ],
   "source": [
    "#alcune funzioni:\n",
    "x_ones = torch.ones(size=(4,4,3) , dtype=torch.int32) #this is a 4x4 x3 tensor. \n",
    "print(x_ones)\n",
    "print(x_ones.shape)\n",
    "print(x_ones.dtype)\n"
   ]
  },
  {
   "cell_type": "code",
   "execution_count": 8,
   "metadata": {},
   "outputs": [
    {
     "name": "stdout",
     "output_type": "stream",
     "text": [
      "tensor([[[0., 0., 0.],\n",
      "         [0., 0., 0.],\n",
      "         [0., 0., 0.],\n",
      "         [0., 0., 0.]],\n",
      "\n",
      "        [[0., 0., 0.],\n",
      "         [0., 0., 0.],\n",
      "         [0., 0., 0.],\n",
      "         [0., 0., 0.]],\n",
      "\n",
      "        [[0., 0., 0.],\n",
      "         [0., 0., 0.],\n",
      "         [0., 0., 0.],\n",
      "         [0., 0., 0.]],\n",
      "\n",
      "        [[0., 0., 0.],\n",
      "         [0., 0., 0.],\n",
      "         [0., 0., 0.],\n",
      "         [0., 0., 0.]]])\n",
      "torch.Size([4, 4, 3])\n",
      "torch.float32\n"
     ]
    }
   ],
   "source": [
    "x_zero = torch.zeros(4, 4, 3)\n",
    "print(x_zero)\n",
    "print(x_zero.shape)\n",
    "print(x_zero.dtype)"
   ]
  },
  {
   "cell_type": "code",
   "execution_count": 10,
   "metadata": {},
   "outputs": [
    {
     "name": "stdout",
     "output_type": "stream",
     "text": [
      "tensor([[[-0.3847,  0.8227,  0.0955],\n",
      "         [-1.7113,  0.8670,  0.0088],\n",
      "         [-1.3341, -0.7041,  0.9964],\n",
      "         [ 0.3780,  1.1648, -1.5300]],\n",
      "\n",
      "        [[-0.3494, -0.1215, -0.2999],\n",
      "         [-1.1565, -0.1424, -2.0532],\n",
      "         [ 1.2090, -0.5904, -1.3280],\n",
      "         [ 0.6573, -1.2722, -1.1755]],\n",
      "\n",
      "        [[-3.1750,  0.5361,  0.8438],\n",
      "         [-0.2098,  0.7864,  1.5080],\n",
      "         [ 0.2584,  0.1044, -0.9781],\n",
      "         [ 0.4068,  1.2692,  0.3516]],\n",
      "\n",
      "        [[-0.9595, -1.3258, -1.1852],\n",
      "         [ 0.4922,  0.6220, -0.3408],\n",
      "         [ 0.6443,  1.1071, -0.2279],\n",
      "         [-2.0533, -1.0610,  0.5774]]])\n",
      "torch.float32\n",
      "torch.Size([4, 4, 3])\n"
     ]
    }
   ],
   "source": [
    "x_rand = torch.randn(size=(4,4,3) , dtype=torch.float32) #questa la posso proprio immaginare come un'immagine.\n",
    "print(x_rand)   \n",
    "print(x_rand.dtype)\n",
    "print(x_rand.shape)"
   ]
  },
  {
   "cell_type": "code",
   "execution_count": 16,
   "metadata": {},
   "outputs": [
    {
     "name": "stdout",
     "output_type": "stream",
     "text": [
      "tensor([[1, 1],\n",
      "        [1, 1],\n",
      "        [1, 1]])\n",
      "torch.Size([3, 2])\n",
      "torch.int64\n",
      "tensor([[0.4550, 0.4586],\n",
      "        [0.5122, 0.0381],\n",
      "        [0.8464, 0.5293]])\n",
      "torch.Size([3, 2])\n",
      "torch.float32\n"
     ]
    }
   ],
   "source": [
    "#other functions:\n",
    "x_ones_like = torch.ones_like(x_tensor) #acquisice tutte le proprietà del tensore che gli passo come parametro, ma tutti 1\n",
    "print(x_ones_like)\n",
    "print(x_ones_like.shape)\n",
    "print(x_ones_like.dtype)\n",
    "#copia tutte le caratteristiche tranne i numeri che lo compongono \n",
    "\n",
    "'''\n",
    "Quindi uun tensore è un oggetto della classe Tensor, e come tale ha degli attributi come: data , shape \n",
    "dtype, device(dove si trova il tensore in memoria), requires_grad (questo è un bool), grad (gradiente calcolato per questo tensore),\n",
    "grad_fn, grad_fn.grad_fn, is_leaf, is_meta, layout,\n",
    "'''\n",
    "\n",
    "x_rand_like = torch.rand_like(x_tensor , dtype=torch.float) #attenzione se non specifico quel datatype mi da un errore. perchè è int32\n",
    "print(x_rand_like)\n",
    "print(x_rand_like.shape)    \n",
    "print(x_rand_like.dtype)    \n",
    "\n",
    "\n"
   ]
  },
  {
   "cell_type": "markdown",
   "metadata": {},
   "source": [
    "ATTENNZIONE: IN GENERALE è MOLTO UTILE STAMPARE MOLTE VOLTE LE SHAPE DEI TENSORI DURANTE I CALCOLI NELLA PARTE DI FORWARD DELLE RETI. PERCHE SONO UN OTTIMO INDICE PER CAPIRE SE CI SONO ERRORI NEL CODICE O SE SONO PRESENTI DELLE INCOMPATIBILITA'. ATTENZIONE "
   ]
  },
  {
   "cell_type": "markdown",
   "metadata": {},
   "source": [
    "Indexing e slicing"
   ]
  },
  {
   "cell_type": "code",
   "execution_count": 34,
   "metadata": {},
   "outputs": [
    {
     "name": "stdout",
     "output_type": "stream",
     "text": [
      "torch.Size([3, 4, 4])\n",
      "tensor([[[0.2079, 0.4988, 0.4595, 0.5666],\n",
      "         [0.5893, 0.3465, 0.0337, 0.4309],\n",
      "         [0.7727, 0.6326, 0.8382, 0.9984],\n",
      "         [0.1371, 0.2624, 0.6468, 0.3218]],\n",
      "\n",
      "        [[0.9985, 0.4005, 0.3535, 0.5075],\n",
      "         [0.2741, 0.1165, 0.8090, 0.5368],\n",
      "         [0.9187, 0.4605, 0.5234, 0.3540],\n",
      "         [0.4450, 0.1810, 0.7851, 0.6035]],\n",
      "\n",
      "        [[0.9950, 0.4548, 0.8796, 0.8965],\n",
      "         [0.0193, 0.2775, 0.6440, 0.9986],\n",
      "         [0.0744, 0.5807, 0.1537, 0.1849],\n",
      "         [0.8800, 0.9864, 0.7592, 0.5137]]])\n",
      "\n",
      "\n",
      "------------------------------------\n",
      "\n",
      "\n",
      "tensor([0.5893, 0.3465, 0.0337, 0.4309])\n",
      "\n",
      "\n",
      "------------------------------------\n",
      "\n",
      "\n",
      "tensor(0.2079)\n",
      "\n",
      "\n",
      "------------------------------------\n",
      "\n",
      "\n",
      "tensor([0.9950, 0.4548, 0.8796, 0.8965])\n",
      "\n",
      "\n",
      "------------------------------------\n",
      "\n",
      "\n",
      "tensor([0.2079, 0.5893, 0.7727, 0.1371])\n",
      "\n",
      "\n",
      "------------------------------------\n",
      "\n",
      "\n",
      "tensor([[0.2079, 0.5893, 0.7727, 0.1371],\n",
      "        [0.9985, 0.2741, 0.9187, 0.4450],\n",
      "        [0.9950, 0.0193, 0.0744, 0.8800]])\n",
      "\n",
      "\n",
      "------------------------------------\n",
      "\n",
      "\n"
     ]
    }
   ],
   "source": [
    "def spazio():\n",
    "    print(\"\\n\")\n",
    "    print(\"------------------------------------\")\n",
    "    print(\"\\n\")\n",
    "\n",
    "x_rand = torch.rand(3, 4 ,4 ) #nota che il primo numero sono in canali.\n",
    "print(x_rand.shape)    \n",
    "print(x_rand)\n",
    "spazio()\n",
    "print(x_rand[0,1])\n",
    "spazio()\n",
    "print(x_rand[0,0,0])\n",
    "spazio()\n",
    "print(x_rand[2,0])\n",
    "spazio()\n",
    "# se voglio printare la colonna 0 di un i canale\n",
    "print(x_rand[0,:,0])\n",
    "spazio()\n",
    "# se voglio printare la colonna 0 di tutti i canali\n",
    "print(x_rand[:,:,0])\n",
    "spazio()"
   ]
  },
  {
   "cell_type": "code",
   "execution_count": 36,
   "metadata": {},
   "outputs": [
    {
     "name": "stdout",
     "output_type": "stream",
     "text": [
      "tensor([[[ 0.3998,  0.0982, -1.8311],\n",
      "         [-1.8990, -0.2237, -0.7999],\n",
      "         [-2.7796, -0.2907,  0.2577]],\n",
      "\n",
      "        [[ 0.5038, -2.0219, -0.4609],\n",
      "         [ 1.3271,  0.6482,  0.1041],\n",
      "         [-1.3979, -1.2751,  0.3400]],\n",
      "\n",
      "        [[ 1.4176,  1.8996, -0.2430],\n",
      "         [ 1.3704, -0.2269, -0.8369],\n",
      "         [ 0.0286, -1.2299, -1.0448]]])\n",
      "\n",
      "\n",
      "------------------------------------\n",
      "\n",
      "\n",
      "tensor([[[10.0000,  0.0982, -1.8311],\n",
      "         [-1.8990, -0.2237, -0.7999],\n",
      "         [-2.7796, -0.2907,  0.2577]],\n",
      "\n",
      "        [[10.0000, -2.0219, -0.4609],\n",
      "         [ 1.3271,  0.6482,  0.1041],\n",
      "         [-1.3979, -1.2751,  0.3400]],\n",
      "\n",
      "        [[10.0000,  1.8996, -0.2430],\n",
      "         [ 1.3704, -0.2269, -0.8369],\n",
      "         [ 0.0286, -1.2299, -1.0448]]])\n"
     ]
    }
   ],
   "source": [
    "#i tensori sono mutabili:\n",
    "A = torch.randn(size =  (3, 3, 3) , dtype= torch.float32)\n",
    "print(A)\n",
    "spazio()\n",
    "A[:,0,0] = 10 #Cambia io primo elemento della prima riga ti tutti i canali\n",
    "print(A)"
   ]
  },
  {
   "cell_type": "code",
   "execution_count": 37,
   "metadata": {},
   "outputs": [
    {
     "name": "stdout",
     "output_type": "stream",
     "text": [
      "tensor([[1., 1.],\n",
      "        [1., 1.]])\n",
      "\n",
      "\n",
      "------------------------------------\n",
      "\n",
      "\n",
      "tensor([[1., 1.],\n",
      "        [1., 1.],\n",
      "        [1., 1.],\n",
      "        [1., 1.]])\n",
      "\n",
      "\n",
      "------------------------------------\n",
      "\n",
      "\n",
      "tensor([[1., 1., 1., 1.],\n",
      "        [1., 1., 1., 1.]])\n",
      "\n",
      "\n",
      "------------------------------------\n",
      "\n",
      "\n"
     ]
    }
   ],
   "source": [
    "B_ones  = torch.ones(size=(2,2) , dtype=torch.float32)\n",
    "#funzione cat, che concatena il tensore:\n",
    "print(B_ones)\n",
    "spazio()\n",
    "t1 = torch.cat(tensors=(B_ones,B_ones), dim=0)\n",
    "print(t1)\n",
    "spazio()\n",
    "t2 = torch.cat(tensors=(B_ones,B_ones), dim=1)\n",
    "print(t2)\n",
    "spazio()"
   ]
  },
  {
   "cell_type": "code",
   "execution_count": 43,
   "metadata": {},
   "outputs": [
    {
     "name": "stdout",
     "output_type": "stream",
     "text": [
      "tensor([[[1., 1., 1.],\n",
      "         [1., 1., 1.],\n",
      "         [1., 1., 1.]],\n",
      "\n",
      "        [[1., 1., 1.],\n",
      "         [1., 1., 1.],\n",
      "         [1., 1., 1.]],\n",
      "\n",
      "        [[1., 1., 1.],\n",
      "         [1., 1., 1.],\n",
      "         [1., 1., 1.]]])\n",
      "\n",
      "\n",
      "------------------------------------\n",
      "\n",
      "\n",
      "tensor([[[1., 1., 1.],\n",
      "         [1., 1., 1.],\n",
      "         [1., 1., 1.]],\n",
      "\n",
      "        [[1., 1., 1.],\n",
      "         [1., 1., 1.],\n",
      "         [1., 1., 1.]],\n",
      "\n",
      "        [[1., 1., 1.],\n",
      "         [1., 1., 1.],\n",
      "         [1., 1., 1.]],\n",
      "\n",
      "        [[1., 1., 1.],\n",
      "         [1., 1., 1.],\n",
      "         [1., 1., 1.]],\n",
      "\n",
      "        [[1., 1., 1.],\n",
      "         [1., 1., 1.],\n",
      "         [1., 1., 1.]],\n",
      "\n",
      "        [[1., 1., 1.],\n",
      "         [1., 1., 1.],\n",
      "         [1., 1., 1.]]])\n",
      "\n",
      "\n",
      "------------------------------------\n",
      "\n",
      "\n"
     ]
    },
    {
     "data": {
      "text/plain": [
       "'t5 = torch.cat(tensor = [B2_ones, B2_ones], dim=1)\\nprint(t5)\\nspazio()'"
      ]
     },
     "execution_count": 43,
     "metadata": {},
     "output_type": "execute_result"
    }
   ],
   "source": [
    "#cosa succede se il tensore è piu complicato?\n",
    "B2_ones = torch.ones(size=(3,3 , 3) , dtype=torch.float32)\n",
    "print(B2_ones)\n",
    "spazio()\n",
    "t4 = torch.cat([B2_ones, B2_ones], dim=0)\n",
    "print(t4)\n",
    "spazio()\n",
    "'''t5 = torch.cat(tensor = [B2_ones, B2_ones], dim=1)\n",
    "print(t5)\n",
    "spazio()'''"
   ]
  },
  {
   "cell_type": "code",
   "execution_count": null,
   "metadata": {},
   "outputs": [],
   "source": []
  }
 ],
 "metadata": {
  "kernelspec": {
   "display_name": "base",
   "language": "python",
   "name": "python3"
  },
  "language_info": {
   "codemirror_mode": {
    "name": "ipython",
    "version": 3
   },
   "file_extension": ".py",
   "mimetype": "text/x-python",
   "name": "python",
   "nbconvert_exporter": "python",
   "pygments_lexer": "ipython3",
   "version": "3.9.13"
  }
 },
 "nbformat": 4,
 "nbformat_minor": 2
}
