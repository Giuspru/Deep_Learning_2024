{
 "cells": [
  {
   "cell_type": "markdown",
   "metadata": {},
   "source": [
    "Let's begin with an introduction to pytorch."
   ]
  },
  {
   "cell_type": "code",
   "execution_count": 35,
   "metadata": {},
   "outputs": [],
   "source": [
    "import numpy as np \n",
    "import torch\n"
   ]
  },
  {
   "cell_type": "markdown",
   "metadata": {},
   "source": [
    "The principal element in pytorch is the tensor."
   ]
  },
  {
   "cell_type": "code",
   "execution_count": 36,
   "metadata": {},
   "outputs": [
    {
     "name": "stdout",
     "output_type": "stream",
     "text": [
      "[[1, 2], [3, 4], [5, 6]]\n",
      "<class 'list'>\n",
      "tensor([[1, 2],\n",
      "        [3, 4],\n",
      "        [5, 6]])\n",
      "<class 'torch.Tensor'>\n"
     ]
    }
   ],
   "source": [
    "#that is a list.\n",
    "data = [\n",
    "    [1, 2],\n",
    "    [3, 4],\n",
    "    [5, 6]\n",
    "]\n",
    "print(data)\n",
    "print(type(data))\n",
    "\n",
    "#that is a tensor. quando lavoreremo con le immagini lavoreremo con tensori a 4 dimensioni\n",
    "#Questo perchè l'immagine sarà formata da 3 dimensioni: altezza, larghezza e canali (RGB) più una batch dimensione. lo vedremo in seguito...\n",
    "x_data = torch.tensor(data) \n",
    "print(x_data)\n",
    "print(type(x_data))\n",
    "\n"
   ]
  },
  {
   "cell_type": "code",
   "execution_count": 37,
   "metadata": {},
   "outputs": [
    {
     "name": "stdout",
     "output_type": "stream",
     "text": [
      "[[1 2]\n",
      " [3 4]\n",
      " [5 6]]\n",
      "<class 'numpy.ndarray'>\n",
      "tensor([[1, 2],\n",
      "        [3, 4],\n",
      "        [5, 6]])\n",
      "<class 'torch.Tensor'>\n"
     ]
    }
   ],
   "source": [
    "#Posso creare un tensore partendo da un array numpy.\n",
    "import numpy as np\n",
    "np_array = np.array(data)\n",
    "print(np_array)\n",
    "print(type(np_array))\n",
    "\n",
    "#and then\n",
    "#prende in oggetto un numpy array e lo trasforma in un tensore torch.\n",
    "x_tensor = torch.from_numpy(np_array)\n",
    "print(x_tensor)\n",
    "print(type(x_tensor))"
   ]
  },
  {
   "cell_type": "code",
   "execution_count": 38,
   "metadata": {},
   "outputs": [
    {
     "name": "stdout",
     "output_type": "stream",
     "text": [
      "tensor([[[1, 1, 1],\n",
      "         [1, 1, 1],\n",
      "         [1, 1, 1],\n",
      "         [1, 1, 1]],\n",
      "\n",
      "        [[1, 1, 1],\n",
      "         [1, 1, 1],\n",
      "         [1, 1, 1],\n",
      "         [1, 1, 1]],\n",
      "\n",
      "        [[1, 1, 1],\n",
      "         [1, 1, 1],\n",
      "         [1, 1, 1],\n",
      "         [1, 1, 1]],\n",
      "\n",
      "        [[1, 1, 1],\n",
      "         [1, 1, 1],\n",
      "         [1, 1, 1],\n",
      "         [1, 1, 1]]], dtype=torch.int32)\n",
      "torch.Size([4, 4, 3])\n",
      "torch.int32\n"
     ]
    }
   ],
   "source": [
    "#alcune funzioni:\n",
    "x_ones = torch.ones(size=(4,4,3) , dtype=torch.int32) #this is a 4x4 x3 tensor. \n",
    "print(x_ones)\n",
    "print(x_ones.shape)\n",
    "print(x_ones.dtype)\n"
   ]
  },
  {
   "cell_type": "code",
   "execution_count": 39,
   "metadata": {},
   "outputs": [
    {
     "name": "stdout",
     "output_type": "stream",
     "text": [
      "tensor([[[0., 0., 0.],\n",
      "         [0., 0., 0.],\n",
      "         [0., 0., 0.],\n",
      "         [0., 0., 0.]],\n",
      "\n",
      "        [[0., 0., 0.],\n",
      "         [0., 0., 0.],\n",
      "         [0., 0., 0.],\n",
      "         [0., 0., 0.]],\n",
      "\n",
      "        [[0., 0., 0.],\n",
      "         [0., 0., 0.],\n",
      "         [0., 0., 0.],\n",
      "         [0., 0., 0.]],\n",
      "\n",
      "        [[0., 0., 0.],\n",
      "         [0., 0., 0.],\n",
      "         [0., 0., 0.],\n",
      "         [0., 0., 0.]]])\n",
      "torch.Size([4, 4, 3])\n",
      "torch.float32\n"
     ]
    }
   ],
   "source": [
    "x_zero = torch.zeros(4, 4, 3)\n",
    "print(x_zero)\n",
    "print(x_zero.shape)\n",
    "print(x_zero.dtype)"
   ]
  },
  {
   "cell_type": "code",
   "execution_count": 40,
   "metadata": {},
   "outputs": [
    {
     "name": "stdout",
     "output_type": "stream",
     "text": [
      "tensor([[[ 0.5016,  0.5247, -0.2674],\n",
      "         [-0.4590, -0.1240, -2.5421],\n",
      "         [-0.1483,  0.1569, -1.3072],\n",
      "         [-0.0274,  0.0912,  0.6977]],\n",
      "\n",
      "        [[ 1.7896,  0.6472, -1.4049],\n",
      "         [-0.8284, -1.1559, -0.2797],\n",
      "         [-0.0488, -2.4528, -0.4027],\n",
      "         [ 0.4906,  0.5318,  1.8865]],\n",
      "\n",
      "        [[ 1.8007,  0.4951,  0.2820],\n",
      "         [ 1.0385, -0.6607, -2.4513],\n",
      "         [ 0.1685,  1.3418,  0.7777],\n",
      "         [ 0.8146,  0.0856, -0.9194]],\n",
      "\n",
      "        [[ 0.5977,  1.6446,  0.6585],\n",
      "         [ 0.1729, -1.8484, -0.6663],\n",
      "         [ 1.7829,  0.0987, -0.3719],\n",
      "         [-0.6430,  0.8605, -0.0879]]])\n",
      "torch.float32\n",
      "torch.Size([4, 4, 3])\n"
     ]
    }
   ],
   "source": [
    "x_rand = torch.randn(size=(4,4,3) , dtype=torch.float32) #questa la posso proprio immaginare come un'immagine.\n",
    "print(x_rand)   \n",
    "print(x_rand.dtype)\n",
    "print(x_rand.shape)"
   ]
  },
  {
   "cell_type": "code",
   "execution_count": 41,
   "metadata": {},
   "outputs": [
    {
     "name": "stdout",
     "output_type": "stream",
     "text": [
      "tensor([[1, 1],\n",
      "        [1, 1],\n",
      "        [1, 1]])\n",
      "torch.Size([3, 2])\n",
      "torch.int64\n",
      "tensor([[0.2062, 0.4490],\n",
      "        [0.3901, 0.9241],\n",
      "        [0.0563, 0.8859]])\n",
      "torch.Size([3, 2])\n",
      "torch.float32\n"
     ]
    }
   ],
   "source": [
    "#other functions:\n",
    "x_ones_like = torch.ones_like(x_tensor) #acquisice tutte le proprietà del tensore che gli passo come parametro, ma tutti 1\n",
    "print(x_ones_like)\n",
    "print(x_ones_like.shape)\n",
    "print(x_ones_like.dtype)\n",
    "#copia tutte le caratteristiche tranne i numeri che lo compongono \n",
    "\n",
    "'''\n",
    "Quindi uun tensore è un oggetto della classe Tensor, e come tale ha degli attributi come: data , shape \n",
    "dtype, device(dove si trova il tensore in memoria), requires_grad (questo è un bool), grad (gradiente calcolato per questo tensore),\n",
    "grad_fn, grad_fn.grad_fn, is_leaf, is_meta, layout,\n",
    "'''\n",
    "\n",
    "x_rand_like = torch.rand_like(x_tensor , dtype=torch.float) #attenzione se non specifico quel datatype mi da un errore. perchè è int32\n",
    "print(x_rand_like)\n",
    "print(x_rand_like.shape)    \n",
    "print(x_rand_like.dtype)    \n",
    "\n",
    "\n"
   ]
  },
  {
   "cell_type": "markdown",
   "metadata": {},
   "source": [
    "ATTENNZIONE: IN GENERALE è MOLTO UTILE STAMPARE MOLTE VOLTE LE SHAPE DEI TENSORI DURANTE I CALCOLI NELLA PARTE DI FORWARD DELLE RETI. PERCHE SONO UN OTTIMO INDICE PER CAPIRE SE CI SONO ERRORI NEL CODICE O SE SONO PRESENTI DELLE INCOMPATIBILITA'. ATTENZIONE "
   ]
  },
  {
   "cell_type": "markdown",
   "metadata": {},
   "source": [
    "Indexing e slicing"
   ]
  },
  {
   "cell_type": "code",
   "execution_count": 42,
   "metadata": {},
   "outputs": [
    {
     "name": "stdout",
     "output_type": "stream",
     "text": [
      "torch.Size([3, 4, 4])\n",
      "tensor([[[0.3647, 0.7906, 0.8069, 0.5739],\n",
      "         [0.4538, 0.4711, 0.4282, 0.1698],\n",
      "         [0.1394, 0.2403, 0.9846, 0.7111],\n",
      "         [0.4413, 0.0818, 0.8512, 0.6551]],\n",
      "\n",
      "        [[0.7172, 0.0095, 0.6161, 0.0510],\n",
      "         [0.4092, 0.1244, 0.5164, 0.9116],\n",
      "         [0.1470, 0.4788, 0.5393, 0.8873],\n",
      "         [0.6519, 0.3641, 0.4095, 0.9264]],\n",
      "\n",
      "        [[0.3628, 0.3112, 0.1685, 0.7596],\n",
      "         [0.8758, 0.6628, 0.4631, 0.2088],\n",
      "         [0.4245, 0.2770, 0.8875, 0.6682],\n",
      "         [0.7863, 0.8392, 0.1535, 0.2235]]])\n",
      "\n",
      "\n",
      "------------------------------------\n",
      "\n",
      "\n",
      "tensor([0.4538, 0.4711, 0.4282, 0.1698])\n",
      "\n",
      "\n",
      "------------------------------------\n",
      "\n",
      "\n",
      "tensor(0.3647)\n",
      "\n",
      "\n",
      "------------------------------------\n",
      "\n",
      "\n",
      "tensor([0.3628, 0.3112, 0.1685, 0.7596])\n",
      "\n",
      "\n",
      "------------------------------------\n",
      "\n",
      "\n",
      "tensor([0.3647, 0.4538, 0.1394, 0.4413])\n",
      "\n",
      "\n",
      "------------------------------------\n",
      "\n",
      "\n",
      "tensor([[0.3647, 0.4538, 0.1394, 0.4413],\n",
      "        [0.7172, 0.4092, 0.1470, 0.6519],\n",
      "        [0.3628, 0.8758, 0.4245, 0.7863]])\n",
      "\n",
      "\n",
      "------------------------------------\n",
      "\n",
      "\n"
     ]
    }
   ],
   "source": [
    "def spazio():\n",
    "    print(\"\\n\")\n",
    "    print(\"------------------------------------\")\n",
    "    print(\"\\n\")\n",
    "\n",
    "x_rand = torch.rand(3, 4 ,4 ) #nota che il primo numero sono in canali.\n",
    "print(x_rand.shape)    \n",
    "print(x_rand)\n",
    "spazio()\n",
    "print(x_rand[0,1])\n",
    "spazio()\n",
    "print(x_rand[0,0,0])\n",
    "spazio()\n",
    "print(x_rand[2,0])\n",
    "spazio()\n",
    "# se voglio printare la colonna 0 di un i canale\n",
    "print(x_rand[0,:,0])\n",
    "spazio()\n",
    "# se voglio printare la colonna 0 di tutti i canali\n",
    "print(x_rand[:,:,0])\n",
    "spazio()"
   ]
  },
  {
   "cell_type": "code",
   "execution_count": 43,
   "metadata": {},
   "outputs": [
    {
     "name": "stdout",
     "output_type": "stream",
     "text": [
      "tensor([[[ 1.7958,  0.1612,  0.2915],\n",
      "         [ 0.1919, -0.2951, -1.2383],\n",
      "         [ 0.3943, -0.9321, -0.7311]],\n",
      "\n",
      "        [[ 0.2950, -0.7205,  0.9740],\n",
      "         [-0.2859,  0.7601,  1.1795],\n",
      "         [-2.2405, -0.0215, -1.1543]],\n",
      "\n",
      "        [[-0.6118,  0.3665,  0.3854],\n",
      "         [-0.4565,  0.8864,  0.7573],\n",
      "         [ 0.6826,  0.2722, -1.1437]]])\n",
      "\n",
      "\n",
      "------------------------------------\n",
      "\n",
      "\n",
      "tensor([[[10.0000,  0.1612,  0.2915],\n",
      "         [ 0.1919, -0.2951, -1.2383],\n",
      "         [ 0.3943, -0.9321, -0.7311]],\n",
      "\n",
      "        [[10.0000, -0.7205,  0.9740],\n",
      "         [-0.2859,  0.7601,  1.1795],\n",
      "         [-2.2405, -0.0215, -1.1543]],\n",
      "\n",
      "        [[10.0000,  0.3665,  0.3854],\n",
      "         [-0.4565,  0.8864,  0.7573],\n",
      "         [ 0.6826,  0.2722, -1.1437]]])\n"
     ]
    }
   ],
   "source": [
    "#i tensori sono mutabili:\n",
    "A = torch.randn(size =  (3, 3, 3) , dtype= torch.float32)\n",
    "print(A)\n",
    "spazio()\n",
    "A[:,0,0] = 10 #Cambia io primo elemento della prima riga ti tutti i canali\n",
    "print(A)"
   ]
  },
  {
   "cell_type": "code",
   "execution_count": 44,
   "metadata": {},
   "outputs": [
    {
     "name": "stdout",
     "output_type": "stream",
     "text": [
      "tensor([[1., 1.],\n",
      "        [1., 1.]])\n",
      "\n",
      "\n",
      "------------------------------------\n",
      "\n",
      "\n",
      "tensor([[1., 1.],\n",
      "        [1., 1.],\n",
      "        [1., 1.],\n",
      "        [1., 1.]])\n",
      "\n",
      "\n",
      "------------------------------------\n",
      "\n",
      "\n",
      "tensor([[1., 1., 1., 1.],\n",
      "        [1., 1., 1., 1.]])\n",
      "\n",
      "\n",
      "------------------------------------\n",
      "\n",
      "\n"
     ]
    }
   ],
   "source": [
    "B_ones  = torch.ones(size=(2,2) , dtype=torch.float32)\n",
    "#funzione cat, che concatena il tensore:\n",
    "print(B_ones)\n",
    "spazio()\n",
    "t1 = torch.cat(tensors=(B_ones,B_ones), dim=0)\n",
    "print(t1)\n",
    "spazio()\n",
    "t2 = torch.cat(tensors=(B_ones,B_ones), dim=1)\n",
    "print(t2)\n",
    "spazio()"
   ]
  },
  {
   "cell_type": "code",
   "execution_count": 45,
   "metadata": {},
   "outputs": [
    {
     "name": "stdout",
     "output_type": "stream",
     "text": [
      "tensor([[[1., 1., 1.],\n",
      "         [1., 1., 1.],\n",
      "         [1., 1., 1.]],\n",
      "\n",
      "        [[1., 1., 1.],\n",
      "         [1., 1., 1.],\n",
      "         [1., 1., 1.]],\n",
      "\n",
      "        [[1., 1., 1.],\n",
      "         [1., 1., 1.],\n",
      "         [1., 1., 1.]]])\n",
      "\n",
      "\n",
      "------------------------------------\n",
      "\n",
      "\n",
      "tensor([[[1., 1., 1.],\n",
      "         [1., 1., 1.],\n",
      "         [1., 1., 1.]],\n",
      "\n",
      "        [[1., 1., 1.],\n",
      "         [1., 1., 1.],\n",
      "         [1., 1., 1.]],\n",
      "\n",
      "        [[1., 1., 1.],\n",
      "         [1., 1., 1.],\n",
      "         [1., 1., 1.]],\n",
      "\n",
      "        [[1., 1., 1.],\n",
      "         [1., 1., 1.],\n",
      "         [1., 1., 1.]],\n",
      "\n",
      "        [[1., 1., 1.],\n",
      "         [1., 1., 1.],\n",
      "         [1., 1., 1.]],\n",
      "\n",
      "        [[1., 1., 1.],\n",
      "         [1., 1., 1.],\n",
      "         [1., 1., 1.]]])\n",
      "\n",
      "\n",
      "------------------------------------\n",
      "\n",
      "\n"
     ]
    },
    {
     "data": {
      "text/plain": [
       "'t5 = torch.cat(tensor = [B2_ones, B2_ones], dim=1)\\nprint(t5)\\nspazio()'"
      ]
     },
     "execution_count": 45,
     "metadata": {},
     "output_type": "execute_result"
    }
   ],
   "source": [
    "#cosa succede se il tensore è piu complicato?\n",
    "B2_ones = torch.ones(size=(3,3 , 3) , dtype=torch.float32)\n",
    "print(B2_ones)\n",
    "spazio()\n",
    "t4 = torch.cat([B2_ones, B2_ones], dim=0)\n",
    "print(t4)\n",
    "spazio()\n",
    "'''t5 = torch.cat(tensor = [B2_ones, B2_ones], dim=1)\n",
    "print(t5)\n",
    "spazio()'''"
   ]
  },
  {
   "cell_type": "markdown",
   "metadata": {},
   "source": [
    "Operazioni tra tensori:"
   ]
  },
  {
   "cell_type": "code",
   "execution_count": 46,
   "metadata": {},
   "outputs": [
    {
     "name": "stdout",
     "output_type": "stream",
     "text": [
      "tensor([[1., 1.],\n",
      "        [1., 1.]])\n",
      "\n",
      "\n",
      "------------------------------------\n",
      "\n",
      "\n",
      "tensor([[2., 2.],\n",
      "        [2., 2.]])\n",
      "\n",
      "\n",
      "------------------------------------\n",
      "\n",
      "\n",
      "tensor([[[3., 3., 3.],\n",
      "         [3., 3., 3.],\n",
      "         [3., 3., 3.]],\n",
      "\n",
      "        [[3., 3., 3.],\n",
      "         [3., 3., 3.],\n",
      "         [3., 3., 3.]],\n",
      "\n",
      "        [[3., 3., 3.],\n",
      "         [3., 3., 3.],\n",
      "         [3., 3., 3.]]])\n",
      "\n",
      "\n",
      "------------------------------------\n",
      "\n",
      "\n",
      "tensor([[[1., 1.],\n",
      "         [1., 1.]],\n",
      "\n",
      "        [[1., 1.],\n",
      "         [1., 1.]],\n",
      "\n",
      "        [[1., 1.],\n",
      "         [1., 1.]]])\n",
      "\n",
      "\n",
      "------------------------------------\n",
      "\n",
      "\n",
      "tensor([[[2., 2.],\n",
      "         [2., 2.]],\n",
      "\n",
      "        [[2., 2.],\n",
      "         [2., 2.]],\n",
      "\n",
      "        [[2., 2.],\n",
      "         [2., 2.]]])\n",
      "\n",
      "\n",
      "------------------------------------\n",
      "\n",
      "\n",
      "tensor([[[2., 2.],\n",
      "         [2., 2.]],\n",
      "\n",
      "        [[2., 2.],\n",
      "         [2., 2.]],\n",
      "\n",
      "        [[2., 2.],\n",
      "         [2., 2.]]])\n",
      "\n",
      "\n",
      "------------------------------------\n",
      "\n",
      "\n",
      "tensor([[[2., 2.],\n",
      "         [2., 2.]],\n",
      "\n",
      "        [[2., 2.],\n",
      "         [2., 2.]],\n",
      "\n",
      "        [[2., 2.],\n",
      "         [2., 2.]]])\n",
      "\n",
      "\n",
      "------------------------------------\n",
      "\n",
      "\n"
     ]
    }
   ],
   "source": [
    "#moltiplicazione matriciale:\n",
    "print(B_ones)\n",
    "spazio()\n",
    "y1 = torch.matmul(B_ones , B_ones)\n",
    "print(y1)\n",
    "spazio()\n",
    "#complichiamo\n",
    "y2= torch.matmul(B2_ones, B2_ones) #eh devi capire come funzionano i moltiplicatori tra matrici\n",
    "print(y2)   \n",
    "spazio()\n",
    "c = torch.ones(size=(3,2,2) , dtype=torch.float32)\n",
    "print(c)    \n",
    "spazio()\n",
    "y3= torch.matmul(c , c)\n",
    "print(y3)\n",
    "spazio()\n",
    "y3= c.matmul(c)\n",
    "print(y3)\n",
    "spazio()\n",
    "y3= c @ c\n",
    "print(y3)\n",
    "spazio()\n"
   ]
  },
  {
   "cell_type": "markdown",
   "metadata": {},
   "source": [
    "Element wise"
   ]
  },
  {
   "cell_type": "code",
   "execution_count": 47,
   "metadata": {},
   "outputs": [
    {
     "name": "stdout",
     "output_type": "stream",
     "text": [
      "tensor([[[1., 1., 1.],\n",
      "         [1., 1., 1.],\n",
      "         [1., 1., 1.]],\n",
      "\n",
      "        [[1., 1., 1.],\n",
      "         [1., 1., 1.],\n",
      "         [1., 1., 1.]],\n",
      "\n",
      "        [[1., 1., 1.],\n",
      "         [1., 1., 1.],\n",
      "         [1., 1., 1.]]])\n",
      "\n",
      "\n",
      "------------------------------------\n",
      "\n",
      "\n",
      "tensor([[[1., 1., 1.],\n",
      "         [1., 1., 1.],\n",
      "         [1., 1., 1.]],\n",
      "\n",
      "        [[1., 1., 1.],\n",
      "         [1., 1., 1.],\n",
      "         [1., 1., 1.]],\n",
      "\n",
      "        [[1., 1., 1.],\n",
      "         [1., 1., 1.],\n",
      "         [1., 1., 1.]]])\n",
      "\n",
      "\n",
      "------------------------------------\n",
      "\n",
      "\n",
      "tensor([[[1., 1., 1.],\n",
      "         [1., 1., 1.],\n",
      "         [1., 1., 1.]],\n",
      "\n",
      "        [[1., 1., 1.],\n",
      "         [1., 1., 1.],\n",
      "         [1., 1., 1.]],\n",
      "\n",
      "        [[1., 1., 1.],\n",
      "         [1., 1., 1.],\n",
      "         [1., 1., 1.]]])\n",
      "\n",
      "\n",
      "------------------------------------\n",
      "\n",
      "\n",
      "tensor([[[1., 1., 1.],\n",
      "         [1., 1., 1.],\n",
      "         [1., 1., 1.]],\n",
      "\n",
      "        [[1., 1., 1.],\n",
      "         [1., 1., 1.],\n",
      "         [1., 1., 1.]],\n",
      "\n",
      "        [[1., 1., 1.],\n",
      "         [1., 1., 1.],\n",
      "         [1., 1., 1.]]])\n",
      "\n",
      "\n",
      "------------------------------------\n",
      "\n",
      "\n"
     ]
    }
   ],
   "source": [
    "print(B2_ones)\n",
    "spazio()\n",
    "z1 = torch.mul(B2_ones , B2_ones)\n",
    "print(z1)\n",
    "spazio()\n",
    "z1= B2_ones.mul(B2_ones)\n",
    "print(z1)\n",
    "spazio()\n",
    "z1= B2_ones * B2_ones\n",
    "print(z1)   \n",
    "spazio()"
   ]
  },
  {
   "cell_type": "markdown",
   "metadata": {},
   "source": [
    "Operazioni di statistiche:"
   ]
  },
  {
   "cell_type": "code",
   "execution_count": 48,
   "metadata": {},
   "outputs": [
    {
     "name": "stdout",
     "output_type": "stream",
     "text": [
      "tensor([[[1., 1., 1.],\n",
      "         [1., 1., 1.],\n",
      "         [1., 1., 1.]],\n",
      "\n",
      "        [[1., 1., 1.],\n",
      "         [1., 1., 1.],\n",
      "         [1., 1., 1.]],\n",
      "\n",
      "        [[1., 1., 1.],\n",
      "         [1., 1., 1.],\n",
      "         [1., 1., 1.]]])\n",
      "\n",
      "\n",
      "------------------------------------\n",
      "\n",
      "\n",
      "tensor(27.)\n",
      "torch.Size([])\n",
      "<class 'torch.Tensor'>\n",
      "\n",
      "\n",
      "------------------------------------\n",
      "\n",
      "\n",
      "27.0\n",
      "<class 'float'>\n",
      "\n",
      "\n",
      "------------------------------------\n",
      "\n",
      "\n"
     ]
    }
   ],
   "source": [
    "print(z1)\n",
    "spazio()\n",
    "\n",
    "sum = z1.sum()\n",
    "print(sum)\n",
    "print(sum.shape)\n",
    "print(type(sum))\n",
    "spazio()\n",
    "\n",
    "#come faccio a trasformarlo in uno scalare?\n",
    "sum = sum.item() #estrae l'elemento del tensore\n",
    "print(sum)\n",
    "print(type(sum))\n",
    "spazio()\n",
    "\n"
   ]
  },
  {
   "cell_type": "markdown",
   "metadata": {},
   "source": [
    "Operazione inplace:"
   ]
  },
  {
   "cell_type": "code",
   "execution_count": 49,
   "metadata": {},
   "outputs": [
    {
     "name": "stdout",
     "output_type": "stream",
     "text": [
      "tensor([[[1., 1., 1.],\n",
      "         [1., 1., 1.],\n",
      "         [1., 1., 1.]],\n",
      "\n",
      "        [[1., 1., 1.],\n",
      "         [1., 1., 1.],\n",
      "         [1., 1., 1.]],\n",
      "\n",
      "        [[1., 1., 1.],\n",
      "         [1., 1., 1.],\n",
      "         [1., 1., 1.]]])\n",
      "\n",
      "\n",
      "------------------------------------\n",
      "\n",
      "\n",
      "tensor([[[6., 6., 6.],\n",
      "         [6., 6., 6.],\n",
      "         [6., 6., 6.]],\n",
      "\n",
      "        [[6., 6., 6.],\n",
      "         [6., 6., 6.],\n",
      "         [6., 6., 6.]],\n",
      "\n",
      "        [[6., 6., 6.],\n",
      "         [6., 6., 6.],\n",
      "         [6., 6., 6.]]])\n",
      "\n",
      "\n",
      "------------------------------------\n",
      "\n",
      "\n",
      "tensor([[[11., 11., 11.],\n",
      "         [11., 11., 11.],\n",
      "         [11., 11., 11.]],\n",
      "\n",
      "        [[11., 11., 11.],\n",
      "         [11., 11., 11.],\n",
      "         [11., 11., 11.]],\n",
      "\n",
      "        [[11., 11., 11.],\n",
      "         [11., 11., 11.],\n",
      "         [11., 11., 11.]]])\n"
     ]
    }
   ],
   "source": [
    "print(z1)\n",
    "spazio()\n",
    "print(z1.add_(5))\n",
    "spazio()\n",
    "print(z1+5)"
   ]
  },
  {
   "cell_type": "code",
   "execution_count": 50,
   "metadata": {},
   "outputs": [
    {
     "name": "stdout",
     "output_type": "stream",
     "text": [
      "tensor([1., 1., 1., 1., 1.])\n",
      "<class 'torch.Tensor'>\n",
      "torch.Size([5])\n",
      "\n",
      "\n",
      "------------------------------------\n",
      "\n",
      "\n",
      "[1. 1. 1. 1. 1.]\n",
      "<class 'numpy.ndarray'>\n",
      "(5,)\n",
      "\n",
      "\n",
      "------------------------------------\n",
      "\n",
      "\n"
     ]
    }
   ],
   "source": [
    "#Vediamo come passare da tensor a numpy:\n",
    "b = torch.ones(size=(5,)) #stiamo creando un vettore\n",
    "print(b)\n",
    "print(type(b))\n",
    "print(b.shape)\n",
    "spazio()\n",
    "\n",
    "numpy_b = b.numpy()\n",
    "print(numpy_b)\n",
    "print(type(numpy_b))\n",
    "print(numpy_b.shape)\n",
    "spazio()"
   ]
  },
  {
   "cell_type": "markdown",
   "metadata": {},
   "source": [
    "ATTENZIONE!!!"
   ]
  },
  {
   "cell_type": "code",
   "execution_count": 51,
   "metadata": {},
   "outputs": [
    {
     "name": "stdout",
     "output_type": "stream",
     "text": [
      "tensor([1., 1., 1., 1., 1.], dtype=torch.float64)\n",
      "\n",
      "\n",
      "------------------------------------\n",
      "\n",
      "\n",
      "[1. 1. 1. 1. 1.]\n",
      "\n",
      "\n",
      "------------------------------------\n",
      "\n",
      "\n",
      "[11. 11. 11. 11. 11.]\n",
      "tensor([11., 11., 11., 11., 11.], dtype=torch.float64)\n",
      "\n",
      "\n",
      "------------------------------------\n",
      "\n",
      "\n",
      "[21. 21. 21. 21. 21.]\n",
      "tensor([11., 11., 11., 11., 11.], dtype=torch.float64)\n",
      "\n",
      "\n",
      "------------------------------------\n",
      "\n",
      "\n"
     ]
    }
   ],
   "source": [
    "D = torch.ones(size=(5,) , dtype=torch.float64)\n",
    "print(D)\n",
    "spazio()\n",
    "n_D = D.numpy()\n",
    "print(n_D)\n",
    "spazio()\n",
    "\n",
    "#Attenzione a quello che faccio:\n",
    "np.add(n_D , 10 , out=n_D) \n",
    "print(n_D)\n",
    "print(D)\n",
    "spazio()\n",
    "\n",
    "'''\n",
    "    Attenzione perchè spostiamo il numpy ma stiamo scambiando il riferimento. L'ggetto D continua ad esistere, e\n",
    "    la variabile D che codifica un oggetto tensor, punta alla stessa zona di memoria a cui punta n_D.\n",
    "    Non viene creato un nuovo oggetto numpy. \n",
    "    Quindi se modifico i valori nell'array numpy, modifico la stessa zona di memoria di D. Quindi vedo le stesse modifiche.\n",
    "'''\n",
    "\n",
    "#questo non accade se non faccio le inplace: questo perchè creo un nuovo oggetto numpy, i cui valori sono presi da un altro oggetto. La zona di memoria è differente.\n",
    "n_D = n_D + 10\n",
    "print(n_D)\n",
    "print(D)\n",
    "spazio()\n",
    "\n"
   ]
  }
 ],
 "metadata": {
  "kernelspec": {
   "display_name": "base",
   "language": "python",
   "name": "python3"
  },
  "language_info": {
   "codemirror_mode": {
    "name": "ipython",
    "version": 3
   },
   "file_extension": ".py",
   "mimetype": "text/x-python",
   "name": "python",
   "nbconvert_exporter": "python",
   "pygments_lexer": "ipython3",
   "version": "3.9.13"
  }
 },
 "nbformat": 4,
 "nbformat_minor": 2
}
