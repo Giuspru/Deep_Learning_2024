{
 "cells": [
  {
   "cell_type": "markdown",
   "metadata": {},
   "source": [
    "Proviamo a scrivere con i tensori, quello che avviene all'interno dei neuroni: "
   ]
  },
  {
   "cell_type": "code",
   "execution_count": 3,
   "metadata": {},
   "outputs": [],
   "source": [
    "def spazio():\n",
    "    print(\"\\n\")\n",
    "    print(\"------------------------------------\")\n",
    "    print(\"\\n\")"
   ]
  },
  {
   "cell_type": "code",
   "execution_count": 4,
   "metadata": {},
   "outputs": [
    {
     "name": "stdout",
     "output_type": "stream",
     "text": [
      "tensor([1., 1., 1., 1., 1.])\n",
      "tensor([0., 0., 0.])\n",
      "\n",
      "\n",
      "------------------------------------\n",
      "\n",
      "\n",
      "tensor([[-1.2475, -0.2463,  0.5453],\n",
      "        [-0.1887,  0.3572, -0.1364],\n",
      "        [-1.8013,  0.8911,  0.5460],\n",
      "        [-0.7728, -0.0790, -1.1380],\n",
      "        [-0.4469,  0.6201, -1.7825]], requires_grad=True)\n",
      "torch.Size([5, 3])\n",
      "tensor([[ 0.6233,  0.0649,  0.0471, -1.3758,  0.5309],\n",
      "        [-0.5464, -0.5199,  1.2245,  0.2098,  2.3574],\n",
      "        [-0.7816,  0.2649,  0.6401, -1.0901,  0.4252]], requires_grad=True)\n",
      "torch.Size([3, 5])\n",
      "\n",
      "\n",
      "------------------------------------\n",
      "\n",
      "\n",
      "tensor([ 1.0539, -0.6135, -0.3380], requires_grad=True)\n",
      "torch.Size([3])\n",
      "\n",
      "\n",
      "------------------------------------\n",
      "\n",
      "\n"
     ]
    }
   ],
   "source": [
    "\n",
    "import torch \n",
    "import numpy as np\n",
    "\n",
    "x = torch.ones(size = (5 , ))\n",
    "y = torch.zeros(size = (3 , ))\n",
    "print(x)\n",
    "print(y)\n",
    "spazio()\n",
    "\n",
    "'''\n",
    "we have an input x that is a vector of 5 elements.\n",
    "Also we have an output y that is a vector of 3 elements.\n",
    "Basically we can imagine, we have one sample with 5 features. We imagine also that the problem is multiclassification\n",
    "So we have 3 classes.\n",
    "I think, probabilly, the higer element of y identify the appartenance to the class.\n",
    "'''\n",
    "\n",
    "w = torch.randn(size = (5 , 3 ) , requires_grad=True)\n",
    "w1 = torch.randn(size = (3 , 5 ) , requires_grad=True)\n",
    "print(w)\n",
    "print(w.shape)\n",
    "print(w1)\n",
    "print(w1.shape) \n",
    "spazio()\n",
    "\n",
    "\n",
    "'''\n",
    "Piccola spiegazione sulle dimensioni di w e w1, il professore ha detto che la dimensione dovrà essere \n",
    "5x3, ma nelle NN dal punto di vista matematico ha senso fare 3x5. Questo perchè nei neuroni\n",
    "ci sarà il frutto dei risultati del prodotto W.x + b.\n",
    "'''\n",
    "\n",
    "b = torch.randn(size = (3 , ) , requires_grad=True) #tre sono i neuroni di output.\n",
    "print(b)\n",
    "print(b.shape)\n",
    "spazio()\n",
    "\n"
   ]
  },
  {
   "cell_type": "code",
   "execution_count": 5,
   "metadata": {},
   "outputs": [
    {
     "name": "stdout",
     "output_type": "stream",
     "text": [
      "tensor([-3.4033,  0.9296, -2.3036], grad_fn=<AddBackward0>)\n",
      "torch.Size([3])\n",
      "\n",
      "\n",
      "------------------------------------\n",
      "\n",
      "\n",
      "tensor([ 0.9443,  2.1120, -0.8797], grad_fn=<AddBackward0>)\n",
      "torch.Size([3])\n",
      "\n",
      "\n",
      "------------------------------------\n",
      "\n",
      "\n"
     ]
    },
    {
     "data": {
      "text/plain": [
       "'\\nQui divento pazzo, ovviamente queste due cose non sono la stessa cosa!\\nAnche se la dimensione è la stessa, non sono la stessa cosa!\\nva bene lo stesso??? Vedremo, io continuerò a implementarli insieme.\\n'"
      ]
     },
     "execution_count": 5,
     "metadata": {},
     "output_type": "execute_result"
    }
   ],
   "source": [
    "#Implementiamo la moltimplicazione:\n",
    "z = torch.matmul(x, w) + b \n",
    "print(z)\n",
    "print(z.shape)\n",
    "spazio()\n",
    "z1= torch.matmul(w1, x) + b \n",
    "print(z1)\n",
    "print(z1.shape)\n",
    "spazio()\n",
    "'''\n",
    "Qui divento pazzo, ovviamente queste due cose non sono la stessa cosa!\n",
    "Anche se la dimensione è la stessa, non sono la stessa cosa!\n",
    "va bene lo stesso??? Vedremo, io continuerò a implementarli insieme.\n",
    "'''"
   ]
  },
  {
   "cell_type": "code",
   "execution_count": 6,
   "metadata": {},
   "outputs": [
    {
     "name": "stdout",
     "output_type": "stream",
     "text": [
      "tensor(0.4634, grad_fn=<BinaryCrossEntropyWithLogitsBackward0>)\n",
      "\n",
      "\n",
      "------------------------------------\n",
      "\n",
      "\n",
      "tensor(1.2820, grad_fn=<BinaryCrossEntropyWithLogitsBackward0>)\n",
      "\n",
      "\n",
      "------------------------------------\n",
      "\n",
      "\n"
     ]
    }
   ],
   "source": [
    "#Calcolo della Loss: \n",
    "loss = torch.nn.functional.binary_cross_entropy_with_logits(z , y)\n",
    "print(loss)\n",
    "spazio()\n",
    "loss1 = torch.nn.functional.binary_cross_entropy_with_logits(z1 , y)\n",
    "print(loss1)\n",
    "spazio()\n"
   ]
  },
  {
   "cell_type": "markdown",
   "metadata": {},
   "source": [
    "A questo punto una volta che abbiamo la nostra loss function, quello che si fa è propagare il gradiente per aggiornare i parametri. Possiamo avere un piccolo aiutino per effettuare questa backpropagation."
   ]
  },
  {
   "cell_type": "code",
   "execution_count": 7,
   "metadata": {},
   "outputs": [
    {
     "name": "stdout",
     "output_type": "stream",
     "text": [
      "gradient function di z: <AddBackward0 object at 0x7fcd11297130>\n",
      "\n",
      "\n",
      "------------------------------------\n",
      "\n",
      "\n",
      "gradient function di z1: <AddBackward0 object at 0x7fcd11297130>\n",
      "\n",
      "\n",
      "------------------------------------\n",
      "\n",
      "\n"
     ]
    },
    {
     "data": {
      "text/plain": [
       "\"\\nEseguendo lui ci dice che la funzione che ha generato z è una addbackward cioè una somma, poichè z di fatto è una somma tra matmul e il vettore b\\nA sua volta lui dirà che torch.matmul è una variabile che è generato come moltiplicazione tra matrici x e w. \\nPoi va su x e w, che sono la radice dell'albero di computazione e mi fermo.\\n\""
      ]
     },
     "execution_count": 7,
     "metadata": {},
     "output_type": "execute_result"
    }
   ],
   "source": [
    "#pytorch pensa all'implementazione della backpropagation.\n",
    "#Noi implementiamo solo il forward.\n",
    "\n",
    "print(\"gradient function di z:\" , z.grad_fn )\n",
    "spazio()\n",
    "print(\"gradient function di z1:\" , z1.grad_fn )\n",
    "spazio()\n",
    "\n",
    "'''\n",
    "Eseguendo lui ci dice che la funzione che ha generato z è una addbackward cioè una somma, poichè z di fatto è una somma tra matmul e il vettore b\n",
    "A sua volta lui dirà che torch.matmul è una variabile che è generato come moltiplicazione tra matrici x e w. \n",
    "Poi va su x e w, che sono la radice dell'albero di computazione e mi fermo.\n",
    "'''"
   ]
  },
  {
   "cell_type": "code",
   "execution_count": 8,
   "metadata": {},
   "outputs": [
    {
     "name": "stdout",
     "output_type": "stream",
     "text": [
      "\n",
      "\n",
      "------------------------------------\n",
      "\n",
      "\n",
      "\n",
      "\n",
      "------------------------------------\n",
      "\n",
      "\n",
      "tensor([[0.0107, 0.2390, 0.0303],\n",
      "        [0.0107, 0.2390, 0.0303],\n",
      "        [0.0107, 0.2390, 0.0303],\n",
      "        [0.0107, 0.2390, 0.0303],\n",
      "        [0.0107, 0.2390, 0.0303]])\n",
      "\n",
      "\n",
      "------------------------------------\n",
      "\n",
      "\n",
      "tensor([0.2507, 0.5363, 0.1280])\n",
      "\n",
      "\n",
      "------------------------------------\n",
      "\n",
      "\n",
      "tensor([[0.2400, 0.2400, 0.2400, 0.2400, 0.2400],\n",
      "        [0.2974, 0.2974, 0.2974, 0.2974, 0.2974],\n",
      "        [0.0977, 0.0977, 0.0977, 0.0977, 0.0977]])\n",
      "\n",
      "\n",
      "------------------------------------\n",
      "\n",
      "\n"
     ]
    }
   ],
   "source": [
    "#Con la funzione Backword che viene iinvocata sulla loss, allora viene propagato il gradiente e viene applicato.\n",
    "loss.backward()\n",
    "spazio()\n",
    "loss1.backward()\n",
    "spazio()\n",
    "\n",
    "'''\n",
    "Quello che succede è che viene effettuata una propagazione all'indietro di tutto il gradiente, fino alla radice della catena di computazione,\n",
    "E salva i gradienti, sull'attributo grad di ogni tensore (solo sui tensori in cui ho imposto requires_grad=True).\n",
    "'''\n",
    "\n",
    "print(w.grad)\n",
    "spazio()\n",
    "print(b.grad)\n",
    "spazio()\n",
    "print(w1.grad)\n",
    "spazio()\n",
    "\n",
    "\n",
    "#ATTENZIONE: questo è il gradiente per ogni w_i. NON ABBIAMO ANCORA AGGIORNATO I PESI\n",
    "#Aggiornare i parametri è il compito di un ottimizzatore SGD, ADAM, ecc."
   ]
  }
 ],
 "metadata": {
  "kernelspec": {
   "display_name": "base",
   "language": "python",
   "name": "python3"
  },
  "language_info": {
   "codemirror_mode": {
    "name": "ipython",
    "version": 3
   },
   "file_extension": ".py",
   "mimetype": "text/x-python",
   "name": "python",
   "nbconvert_exporter": "python",
   "pygments_lexer": "ipython3",
   "version": "3.9.13"
  }
 },
 "nbformat": 4,
 "nbformat_minor": 2
}
