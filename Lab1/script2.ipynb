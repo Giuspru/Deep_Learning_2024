{
 "cells": [
  {
   "cell_type": "markdown",
   "metadata": {},
   "source": [
    "Proviamo a scrivere con i tensori, quello che avviene all'interno dei neuroni: "
   ]
  },
  {
   "cell_type": "code",
   "execution_count": 26,
   "metadata": {},
   "outputs": [
    {
     "name": "stdout",
     "output_type": "stream",
     "text": [
      "tensor([1., 1., 1., 1., 1.])\n",
      "tensor([0., 0., 0.])\n",
      "\n",
      "\n",
      "------------------------------------\n",
      "\n",
      "\n",
      "tensor([[-1.1266, -0.6774,  0.9598],\n",
      "        [-0.2390,  0.9598,  0.6612],\n",
      "        [-0.0940,  1.1978,  0.0492],\n",
      "        [ 1.0808,  1.4309, -0.7230],\n",
      "        [-0.5539,  1.0188, -0.4486]], requires_grad=True)\n",
      "torch.Size([5, 3])\n",
      "tensor([[ 1.7975,  1.1554, -1.3500,  2.3465,  0.7387],\n",
      "        [-0.9340,  0.0120, -1.5441,  0.9270,  0.0891],\n",
      "        [-0.8967,  1.9869,  0.9839,  1.4655,  0.8799]], requires_grad=True)\n",
      "torch.Size([3, 5])\n",
      "\n",
      "\n",
      "------------------------------------\n",
      "\n",
      "\n",
      "tensor([-1.4139,  0.5491, -0.6101], requires_grad=True)\n",
      "torch.Size([3])\n",
      "\n",
      "\n",
      "------------------------------------\n",
      "\n",
      "\n"
     ]
    }
   ],
   "source": [
    "\n",
    "import torch \n",
    "import numpy as np\n",
    "from Lezione_08102024 import spazio\n",
    "x = torch.ones(size = (5 , ))\n",
    "y = torch.zeros(size = (3 , ))\n",
    "print(x)\n",
    "print(y)\n",
    "spazio()\n",
    "\n",
    "'''\n",
    "we have an input x that is a vector of 5 elements.\n",
    "Also we have an output y that is a vector of 3 elements.\n",
    "Basically we can imagine, we have one sample with 5 features. We imagine also that the problem is multiclassification\n",
    "So we have 3 classes.\n",
    "I think, probabilly, the higer element of y identify the appartenance to the class.\n",
    "'''\n",
    "\n",
    "w = torch.randn(size = (5 , 3 ) , requires_grad=True)\n",
    "w1 = torch.randn(size = (3 , 5 ) , requires_grad=True)\n",
    "print(w)\n",
    "print(w.shape)\n",
    "print(w1)\n",
    "print(w1.shape) \n",
    "spazio()\n",
    "\n",
    "\n",
    "'''\n",
    "Piccola spiegazione sulle dimensioni di w e w1, il professore ha detto che la dimensione dovrà essere \n",
    "5x3, ma nelle NN dal punto di vista matematico ha senso fare 3x5. Questo perchè nei neuroni\n",
    "ci sarà il frutto dei risultati del prodotto W.x + b.\n",
    "'''\n",
    "\n",
    "b = torch.randn(size = (3 , ) , requires_grad=True) #tre sono i neuroni di output.\n",
    "print(b)\n",
    "print(b.shape)\n",
    "spazio()\n",
    "\n"
   ]
  },
  {
   "cell_type": "code",
   "execution_count": 27,
   "metadata": {},
   "outputs": [
    {
     "name": "stdout",
     "output_type": "stream",
     "text": [
      "tensor([-2.3466,  4.4791, -0.1115], grad_fn=<AddBackward0>)\n",
      "torch.Size([3])\n",
      "\n",
      "\n",
      "------------------------------------\n",
      "\n",
      "\n",
      "tensor([ 3.2743, -0.9008,  3.8094], grad_fn=<AddBackward0>)\n",
      "torch.Size([3])\n",
      "\n",
      "\n",
      "------------------------------------\n",
      "\n",
      "\n"
     ]
    },
    {
     "data": {
      "text/plain": [
       "'\\nQui divento pazzo, ovviamente queste due cose non sono la stessa cosa!\\nAnche se la dimensione è la stessa, non sono la stessa cosa!\\nva bene lo stesso??? Vedremo, io continuerò a implementarli insieme.\\n'"
      ]
     },
     "execution_count": 27,
     "metadata": {},
     "output_type": "execute_result"
    }
   ],
   "source": [
    "#Implementiamo la moltimplicazione:\n",
    "z = torch.matmul(x, w) + b \n",
    "print(z)\n",
    "print(z.shape)\n",
    "spazio()\n",
    "z1= torch.matmul(w1, x) + b \n",
    "print(z1)\n",
    "print(z1.shape)\n",
    "spazio()\n",
    "'''\n",
    "Qui divento pazzo, ovviamente queste due cose non sono la stessa cosa!\n",
    "Anche se la dimensione è la stessa, non sono la stessa cosa!\n",
    "va bene lo stesso??? Vedremo, io continuerò a implementarli insieme.\n",
    "'''"
   ]
  },
  {
   "cell_type": "code",
   "execution_count": 28,
   "metadata": {},
   "outputs": [
    {
     "name": "stdout",
     "output_type": "stream",
     "text": [
      "tensor(1.7402, grad_fn=<BinaryCrossEntropyWithLogitsBackward0>)\n",
      "\n",
      "\n",
      "------------------------------------\n",
      "\n",
      "\n",
      "tensor(2.4946, grad_fn=<BinaryCrossEntropyWithLogitsBackward0>)\n",
      "\n",
      "\n",
      "------------------------------------\n",
      "\n",
      "\n"
     ]
    }
   ],
   "source": [
    "#Calcolo della Loss: \n",
    "loss = torch.nn.functional.binary_cross_entropy_with_logits(z , y)\n",
    "print(loss)\n",
    "spazio()\n",
    "loss1 = torch.nn.functional.binary_cross_entropy_with_logits(z1 , y)\n",
    "print(loss1)\n",
    "spazio()\n"
   ]
  },
  {
   "cell_type": "markdown",
   "metadata": {},
   "source": [
    "A questo punto una volta che abbiamo la nostra loss function, quello che si fa è propagare il gradiente per aggiornare i parametri. Possiamo avere un piccolo aiutino per effettuare questa backpropagation."
   ]
  },
  {
   "cell_type": "code",
   "execution_count": 29,
   "metadata": {},
   "outputs": [
    {
     "name": "stdout",
     "output_type": "stream",
     "text": [
      "gradient function di z: <AddBackward0 object at 0x7f7cb920b190>\n",
      "\n",
      "\n",
      "------------------------------------\n",
      "\n",
      "\n",
      "gradient function di z1: <AddBackward0 object at 0x7f7cb920b190>\n",
      "\n",
      "\n",
      "------------------------------------\n",
      "\n",
      "\n"
     ]
    },
    {
     "data": {
      "text/plain": [
       "\"\\nEseguendo lui ci dice che la funzione che ha generato z è una addbackward cioè una somma, poichè z di fatto è una somma tra matmul e il vettore b\\nA sua volta lui dirà che torch.matmul è una variabile che è generato come moltiplicazione tra matrici x e w. \\nPoi va su x e w, che sono la radice dell'albero di computazione e mi fermo.\\n\""
      ]
     },
     "execution_count": 29,
     "metadata": {},
     "output_type": "execute_result"
    }
   ],
   "source": [
    "#pytorch pensa all'implementazione della backpropagation.\n",
    "#Noi implementiamo solo il forward.\n",
    "\n",
    "print(\"gradient function di z:\" , z.grad_fn )\n",
    "spazio()\n",
    "print(\"gradient function di z1:\" , z1.grad_fn )\n",
    "spazio()\n",
    "\n",
    "'''\n",
    "Eseguendo lui ci dice che la funzione che ha generato z è una addbackward cioè una somma, poichè z di fatto è una somma tra matmul e il vettore b\n",
    "A sua volta lui dirà che torch.matmul è una variabile che è generato come moltiplicazione tra matrici x e w. \n",
    "Poi va su x e w, che sono la radice dell'albero di computazione e mi fermo.\n",
    "'''"
   ]
  },
  {
   "cell_type": "code",
   "execution_count": 30,
   "metadata": {},
   "outputs": [
    {
     "name": "stdout",
     "output_type": "stream",
     "text": [
      "\n",
      "\n",
      "------------------------------------\n",
      "\n",
      "\n",
      "\n",
      "\n",
      "------------------------------------\n",
      "\n",
      "\n",
      "tensor([[0.0291, 0.3296, 0.1574],\n",
      "        [0.0291, 0.3296, 0.1574],\n",
      "        [0.0291, 0.3296, 0.1574],\n",
      "        [0.0291, 0.3296, 0.1574],\n",
      "        [0.0291, 0.3296, 0.1574]])\n",
      "\n",
      "\n",
      "------------------------------------\n",
      "\n",
      "\n",
      "tensor([0.3503, 0.4259, 0.4835])\n",
      "\n",
      "\n",
      "------------------------------------\n",
      "\n",
      "\n",
      "tensor([[0.3212, 0.3212, 0.3212, 0.3212, 0.3212],\n",
      "        [0.0963, 0.0963, 0.0963, 0.0963, 0.0963],\n",
      "        [0.3261, 0.3261, 0.3261, 0.3261, 0.3261]])\n",
      "\n",
      "\n",
      "------------------------------------\n",
      "\n",
      "\n"
     ]
    }
   ],
   "source": [
    "#Con la funzione Backword che viene iinvocata sulla loss, allora viene propagato il gradiente e viene applicato.\n",
    "loss.backward()\n",
    "spazio()\n",
    "loss1.backward()\n",
    "spazio()\n",
    "\n",
    "'''\n",
    "Quello che succede è che viene effettuata una propagazione all'indietro di tutto il gradiente, fino alla radice della catena di computazione,\n",
    "E salva i gradienti, sull'attributo grad di ogni tensore (solo sui tensori in cui ho imposto requires_grad=True).\n",
    "'''\n",
    "\n",
    "print(w.grad)\n",
    "spazio()\n",
    "print(b.grad)\n",
    "spazio()\n",
    "print(w1.grad)\n",
    "spazio()\n",
    "\n",
    "\n",
    "#ATTENZIONE: questo è il gradiente per ogni w_i. NON ABBIAMO ANCORA AGGIORNATO I PESI\n",
    "#Aggiornare i parametri è il compito di un ottimizzatore SGD, ADAM, ecc."
   ]
  }
 ],
 "metadata": {
  "kernelspec": {
   "display_name": "base",
   "language": "python",
   "name": "python3"
  },
  "language_info": {
   "codemirror_mode": {
    "name": "ipython",
    "version": 3
   },
   "file_extension": ".py",
   "mimetype": "text/x-python",
   "name": "python",
   "nbconvert_exporter": "python",
   "pygments_lexer": "ipython3",
   "version": "3.9.13"
  }
 },
 "nbformat": 4,
 "nbformat_minor": 2
}
